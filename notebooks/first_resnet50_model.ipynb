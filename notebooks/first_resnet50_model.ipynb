{
 "cells": [
  {
   "cell_type": "markdown",
   "metadata": {
    "_cell_guid": "b1076dfc-b9ad-4769-8c92-a6c4dae69d19",
    "_uuid": "8f2839f25d086af736a60e9eeb907d3b93b6e0e5"
   },
   "source": [
    "# First Resnet 50 Model"
   ]
  },
  {
   "cell_type": "code",
   "execution_count": 2,
   "metadata": {},
   "outputs": [],
   "source": [
    "import pandas as pd\n",
    "import numpy as np\n",
    "import tensorflow\n",
    "from tensorflow.keras.models import Sequential\n",
    "from tensorflow.keras.layers import Dense, Dropout, Conv2D, MaxPooling2D, Flatten, GlobalAveragePooling2D, BatchNormalization\n",
    "from tensorflow.keras.optimizers import Adam\n",
    "from tensorflow.keras.metrics import categorical_crossentropy\n",
    "from tensorflow.keras.preprocessing.image import ImageDataGenerator\n",
    "from tensorflow.keras.models import Model\n",
    "from tensorflow.keras.callbacks import EarlyStopping, ReduceLROnPlateau, ModelCheckpoint\n",
    "import tensorflow\n",
    "from tensorflow.keras.applications.resnet50 import ResNet50\n",
    "import os\n",
    "import cv2\n",
    "import imageio\n",
    "import skimage\n",
    "import skimage.io\n",
    "import skimage.transform\n",
    "from sklearn.utils import shuffle\n",
    "from sklearn.metrics import confusion_matrix\n",
    "from sklearn.model_selection import train_test_split\n",
    "import itertools\n",
    "import shutil\n",
    "import matplotlib.pyplot as plt"
   ]
  },
  {
   "cell_type": "code",
   "execution_count": 3,
   "metadata": {},
   "outputs": [
    {
     "data": {
      "text/plain": [
       "['9036', '10268', '10257']"
      ]
     },
     "execution_count": 3,
     "metadata": {},
     "output_type": "execute_result"
    }
   ],
   "source": [
    "#check files in the directory \n",
    "os.listdir('./IDC_regular_ps50_idx5/')[:3]"
   ]
  },
  {
   "cell_type": "code",
   "execution_count": null,
   "metadata": {},
   "outputs": [],
   "source": [
    "#create directory to store images from patients\n",
    "images = 'images'\n",
    "os.mkdir(images)"
   ]
  },
  {
   "cell_type": "code",
   "execution_count": null,
   "metadata": {},
   "outputs": [],
   "source": [
    "# received help from https://docs.python.org/3/library/shutil.html and https://www.tutorialspoint.com/python/os_listdir.htm\n",
    "#create a list for patients \n",
    "patient_list = os.listdir('./IDC_regular_ps50_idx5')\n",
    "for patient in patient_list:\n",
    "    #create a path variable for positive and negative images\n",
    "    negative_images = './IDC_regular_ps50_idx5/' + str(patient) + '/0'\n",
    "    positive_images = './IDC_regular_ps50_idx5/' + str(patient) + '/1'\n",
    "\n",
    "\n",
    "    # create a list of all files in folders that end in 0\n",
    "    neg_list = os.listdir(negative_images)\n",
    "    # create a list of list all files in folders that end in 1\n",
    "    pos_list = os.listdir(positive_images)\n",
    "    #shutil.copyfile(src, dst, *, follow_symlinks=True) --- example of format\n",
    "    #Copy the contents (no metadata) of the file named src to a file named dst and return dst in the most efficient way possible.\n",
    "    # move the negative images to images\n",
    "    for filename in neg_list:\n",
    "\n",
    "        # source path to image\n",
    "        src = os.path.join(negative_images, filename)\n",
    "        # destination path to image\n",
    "        dst = os.path.join(images, filename)\n",
    "        # copy the image from the source to the destination\n",
    "        shutil.copyfile(src, dst)\n",
    "\n",
    "\n",
    "    # move the positive images to images\n",
    "    for filename in pos_list:\n",
    "\n",
    "        # source path to image\n",
    "        src = os.path.join(positive_images, filename)\n",
    "        # destination path to image\n",
    "        dst = os.path.join(images, filename)\n",
    "        # copy the image from the source to the destination\n",
    "        shutil.copyfile(src, dst)"
   ]
  },
  {
   "cell_type": "code",
   "execution_count": null,
   "metadata": {},
   "outputs": [],
   "source": [
    "#inspect length of directory\n",
    "len(os.listdir('images'))"
   ]
  },
  {
   "cell_type": "code",
   "execution_count": 5,
   "metadata": {},
   "outputs": [
    {
     "data": {
      "text/html": [
       "<div>\n",
       "<style scoped>\n",
       "    .dataframe tbody tr th:only-of-type {\n",
       "        vertical-align: middle;\n",
       "    }\n",
       "\n",
       "    .dataframe tbody tr th {\n",
       "        vertical-align: top;\n",
       "    }\n",
       "\n",
       "    .dataframe thead th {\n",
       "        text-align: right;\n",
       "    }\n",
       "</style>\n",
       "<table border=\"1\" class=\"dataframe\">\n",
       "  <thead>\n",
       "    <tr style=\"text-align: right;\">\n",
       "      <th></th>\n",
       "      <th>image_id</th>\n",
       "    </tr>\n",
       "  </thead>\n",
       "  <tbody>\n",
       "  </tbody>\n",
       "</table>\n",
       "</div>"
      ],
      "text/plain": [
       "Empty DataFrame\n",
       "Columns: [image_id]\n",
       "Index: []"
      ]
     },
     "execution_count": 5,
     "metadata": {},
     "output_type": "execute_result"
    }
   ],
   "source": [
    "#create a pandas dataframe for images\n",
    "image_list = os.listdir('images')\n",
    "df = pd.DataFrame(image_list, columns=['image_id'])\n",
    "df.head()"
   ]
  },
  {
   "cell_type": "markdown",
   "metadata": {},
   "source": [
    "## Create Dataframe for Images"
   ]
  },
  {
   "cell_type": "code",
   "execution_count": 8,
   "metadata": {},
   "outputs": [
    {
     "data": {
      "text/html": [
       "<div>\n",
       "<style scoped>\n",
       "    .dataframe tbody tr th:only-of-type {\n",
       "        vertical-align: middle;\n",
       "    }\n",
       "\n",
       "    .dataframe tbody tr th {\n",
       "        vertical-align: top;\n",
       "    }\n",
       "\n",
       "    .dataframe thead th {\n",
       "        text-align: right;\n",
       "    }\n",
       "</style>\n",
       "<table border=\"1\" class=\"dataframe\">\n",
       "  <thead>\n",
       "    <tr style=\"text-align: right;\">\n",
       "      <th></th>\n",
       "      <th>image_id</th>\n",
       "      <th>patient_id</th>\n",
       "      <th>target</th>\n",
       "    </tr>\n",
       "  </thead>\n",
       "  <tbody>\n",
       "    <tr>\n",
       "      <th>0</th>\n",
       "      <td>10290_idx5_x251_y1101_class0.png</td>\n",
       "      <td>10290</td>\n",
       "      <td>0</td>\n",
       "    </tr>\n",
       "    <tr>\n",
       "      <th>1</th>\n",
       "      <td>9228_idx5_x1701_y1851_class0.png</td>\n",
       "      <td>9228</td>\n",
       "      <td>0</td>\n",
       "    </tr>\n",
       "    <tr>\n",
       "      <th>2</th>\n",
       "      <td>12901_idx5_x2351_y701_class1.png</td>\n",
       "      <td>12901</td>\n",
       "      <td>1</td>\n",
       "    </tr>\n",
       "    <tr>\n",
       "      <th>3</th>\n",
       "      <td>10272_idx5_x3151_y1901_class0.png</td>\n",
       "      <td>10272</td>\n",
       "      <td>0</td>\n",
       "    </tr>\n",
       "    <tr>\n",
       "      <th>4</th>\n",
       "      <td>10290_idx5_x151_y1051_class0.png</td>\n",
       "      <td>10290</td>\n",
       "      <td>0</td>\n",
       "    </tr>\n",
       "    <tr>\n",
       "      <th>5</th>\n",
       "      <td>12932_idx5_x701_y451_class0.png</td>\n",
       "      <td>12932</td>\n",
       "      <td>0</td>\n",
       "    </tr>\n",
       "    <tr>\n",
       "      <th>6</th>\n",
       "      <td>10272_idx5_x1351_y1551_class0.png</td>\n",
       "      <td>10272</td>\n",
       "      <td>0</td>\n",
       "    </tr>\n",
       "    <tr>\n",
       "      <th>7</th>\n",
       "      <td>13613_idx5_x2051_y1351_class1.png</td>\n",
       "      <td>13613</td>\n",
       "      <td>1</td>\n",
       "    </tr>\n",
       "    <tr>\n",
       "      <th>8</th>\n",
       "      <td>12890_idx5_x1501_y1801_class0.png</td>\n",
       "      <td>12890</td>\n",
       "      <td>0</td>\n",
       "    </tr>\n",
       "    <tr>\n",
       "      <th>9</th>\n",
       "      <td>15840_idx5_x251_y851_class0.png</td>\n",
       "      <td>15840</td>\n",
       "      <td>0</td>\n",
       "    </tr>\n",
       "  </tbody>\n",
       "</table>\n",
       "</div>"
      ],
      "text/plain": [
       "                            image_id patient_id target\n",
       "0   10290_idx5_x251_y1101_class0.png      10290      0\n",
       "1   9228_idx5_x1701_y1851_class0.png       9228      0\n",
       "2   12901_idx5_x2351_y701_class1.png      12901      1\n",
       "3  10272_idx5_x3151_y1901_class0.png      10272      0\n",
       "4   10290_idx5_x151_y1051_class0.png      10290      0\n",
       "5    12932_idx5_x701_y451_class0.png      12932      0\n",
       "6  10272_idx5_x1351_y1551_class0.png      10272      0\n",
       "7  13613_idx5_x2051_y1351_class1.png      13613      1\n",
       "8  12890_idx5_x1501_y1801_class0.png      12890      0\n",
       "9    15840_idx5_x251_y851_class0.png      15840      0"
      ]
     },
     "execution_count": 8,
     "metadata": {},
     "output_type": "execute_result"
    }
   ],
   "source": [
    "# append patient ID and target information to df\n",
    "def get_patient_id(x):\n",
    "    # split into a list\n",
    "    a = x.split('_')\n",
    "    # the id is the first index in the list\n",
    "    patient_id = a[0]\n",
    "    \n",
    "    return patient_id\n",
    "\n",
    "def get_target(x):\n",
    "    # split into a list\n",
    "    a = x.split('_')\n",
    "    # the target is part of the string in index 4\n",
    "    b = a[4]\n",
    "    # the y target 0 or 1 is 5th index of the string --> class1\n",
    "    target = b[5]\n",
    "    \n",
    "    return target\n",
    "\n",
    "# extract the patient id\n",
    "\n",
    "# create a new column called 'patient_id' and apply the patient id function \n",
    "df['patient_id'] = df['image_id'].apply(get_patient_id)\n",
    "# create a new column called 'target' and apply the patient's target variable \n",
    "df['target'] = df['image_id'].apply(get_target)\n",
    "\n",
    "df.head(10)"
   ]
  },
  {
   "cell_type": "code",
   "execution_count": null,
   "metadata": {},
   "outputs": [],
   "source": [
    "df.shape"
   ]
  },
  {
   "cell_type": "code",
   "execution_count": null,
   "metadata": {},
   "outputs": [],
   "source": [
    "df['target'].value_counts()"
   ]
  },
  {
   "cell_type": "code",
   "execution_count": 11,
   "metadata": {},
   "outputs": [
    {
     "data": {
      "text/plain": [
       "1    78786\n",
       "0    78786\n",
       "Name: target, dtype: int64"
      ]
     },
     "execution_count": 11,
     "metadata": {},
     "output_type": "execute_result"
    }
   ],
   "source": [
    "#need to ensure there is no class imbalance before modeling the data \n",
    "df_0 = df[df['target'] == '0'].sample(78786, random_state=1984)\n",
    "# take a sample of class 1 (total = 78786)\n",
    "df_1 = df[df['target'] == '1'].sample(78786, random_state=1984)\n",
    "# concat dataframes\n",
    "df = pd.concat([df_0, df_1], axis=0).reset_index(drop=True)\n",
    "\n",
    "# Check the new class distribution\n",
    "df['target'].value_counts()"
   ]
  },
  {
   "cell_type": "markdown",
   "metadata": {},
   "source": [
    "## Train / test split "
   ]
  },
  {
   "cell_type": "code",
   "execution_count": 12,
   "metadata": {},
   "outputs": [
    {
     "name": "stdout",
     "output_type": "stream",
     "text": [
      "(141814, 3)\n",
      "(15758, 3)\n"
     ]
    }
   ],
   "source": [
    "y = df['target']\n",
    "df_train, df_val = train_test_split(df, test_size=0.10, random_state=1984)\n",
    "print(df_train.shape)\n",
    "print(df_val.shape)"
   ]
  },
  {
   "cell_type": "code",
   "execution_count": null,
   "metadata": {},
   "outputs": [],
   "source": [
    "df_train['target'].value_counts()"
   ]
  },
  {
   "cell_type": "code",
   "execution_count": null,
   "metadata": {},
   "outputs": [],
   "source": [
    "df_val['target'].value_counts()"
   ]
  },
  {
   "cell_type": "code",
   "execution_count": 13,
   "metadata": {},
   "outputs": [],
   "source": [
    "# Create a new directory to house the training and validation data \n",
    "base_dir = 'base_dir'\n",
    "os.mkdir(base_dir)\n",
    "# create a path to 'base_dir' to which we will join the names of the new folders\n",
    "# train_data\n",
    "train_data = os.path.join(base_dir, 'train_data')\n",
    "os.mkdir(train_data)\n",
    "# val_data\n",
    "val_data = os.path.join(base_dir, 'val_data')\n",
    "os.mkdir(val_data)\n",
    "# Inside each folder we create seperate folders for each class\n",
    "# create new folders inside train_data\n",
    "idc_neg = os.path.join(train_data, 'idc_neg')\n",
    "os.mkdir(idc_neg)\n",
    "idc_pos = os.path.join(train_data, 'idc_pos')\n",
    "os.mkdir(idc_pos)\n",
    "# create new folders inside val_data\n",
    "idc_neg = os.path.join(val_data, 'idc_neg')\n",
    "os.mkdir(idc_neg)\n",
    "idc_pos = os.path.join(val_data, 'idc_pos')\n",
    "os.mkdir(idc_pos)"
   ]
  },
  {
   "cell_type": "code",
   "execution_count": null,
   "metadata": {},
   "outputs": [],
   "source": [
    "os.listdir('base_dir/train_data')"
   ]
  },
  {
   "cell_type": "code",
   "execution_count": 14,
   "metadata": {},
   "outputs": [],
   "source": [
    "#setting the image id to be the index of the dataframe\n",
    "df.set_index('image_id', inplace=True)"
   ]
  },
  {
   "cell_type": "code",
   "execution_count": 15,
   "metadata": {},
   "outputs": [],
   "source": [
    "# received help from https://docs.python.org/3/library/shutil.html and https://www.tutorialspoint.com/python/os_listdir.htm\n",
    "# got help from https://www.kaggle.com/paultimothymooney/predict-idc-in-breast-cancer-histology-images \n",
    "# Get a list of train and val images\n",
    "train_list = list(df_train['image_id'])\n",
    "val_list = list(df_val['image_id'])\n",
    "# Transfer the train images\n",
    "for image in train_list:\n",
    "    \n",
    "    \n",
    "    filename = image\n",
    "    # set target variable in training list\n",
    "    target = df.loc[image,'target']\n",
    "    \n",
    "    # set these to correct paths \n",
    "    if target == '0':\n",
    "        label = 'idc_neg'\n",
    "    if target == '1':\n",
    "        label = 'idc_pos'\n",
    "    \n",
    "    # source path to image\n",
    "    src = os.path.join(images, filename)\n",
    "    # destination path to image\n",
    "    dst = os.path.join(train_data, label, filename)\n",
    "    # move the image from the source to the destination\n",
    "    shutil.move(src, dst)\n",
    "    \n",
    "\n",
    "# Transfer the val images\n",
    "\n",
    "for image in val_list:\n",
    "    \n",
    "    filename = image\n",
    "    # get the label for a certain image\n",
    "    target = df.loc[image,'target']\n",
    "    \n",
    "    # these must match the folder names\n",
    "    if target == '0':\n",
    "        label = 'idc_neg'\n",
    "    if target == '1':\n",
    "        label = 'idc_pos'\n",
    "    \n",
    "\n",
    "    # set the source \n",
    "    src = os.path.join(images, filename)\n",
    "    # set path to image\n",
    "    dst = os.path.join(val_data, label, filename)\n",
    "    # move the image \n",
    "    shutil.move(src, dst)"
   ]
  },
  {
   "cell_type": "code",
   "execution_count": 16,
   "metadata": {},
   "outputs": [],
   "source": [
    "train_path = 'base_dir/train_data'\n",
    "valid_path = 'base_dir/val_data'\n",
    "num_train_samples = len(df_train)\n",
    "num_val_samples = len(df_val)\n",
    "train_batch_size = 10\n",
    "val_batch_size = 10\n",
    "train_steps = np.ceil(num_train_samples / train_batch_size)\n",
    "val_steps = np.ceil(num_val_samples / val_batch_size)"
   ]
  },
  {
   "cell_type": "code",
   "execution_count": 17,
   "metadata": {},
   "outputs": [
    {
     "name": "stdout",
     "output_type": "stream",
     "text": [
      "Found 141814 images belonging to 2 classes.\n",
      "Found 15758 images belonging to 2 classes.\n",
      "Found 15758 images belonging to 2 classes.\n"
     ]
    }
   ],
   "source": [
    "#Generate batches of tensor image data with real-time data augmentation - https://keras.io/api/preprocessing/image/\n",
    "datagen = ImageDataGenerator(rescale=1.0/255)\n",
    "\n",
    "train_gen = datagen.flow_from_directory(train_path,\n",
    "                                        target_size=(IMAGE_SIZE,IMAGE_SIZE),\n",
    "                                        batch_size=train_batch_size,\n",
    "                                        class_mode='categorical')\n",
    "\n",
    "val_gen = datagen.flow_from_directory(valid_path,\n",
    "                                        target_size=(IMAGE_SIZE,IMAGE_SIZE),\n",
    "                                        batch_size=val_batch_size,\n",
    "                                        class_mode='categorical')\n",
    "\n",
    "test_gen = datagen.flow_from_directory(valid_path,\n",
    "                                        target_size=(IMAGE_SIZE,IMAGE_SIZE),\n",
    "                                        batch_size=1,\n",
    "                                        class_mode='categorical',\n",
    "                                        shuffle=False)"
   ]
  },
  {
   "cell_type": "markdown",
   "metadata": {},
   "source": [
    "# Instantiate Resnet50 model "
   ]
  },
  {
   "cell_type": "code",
   "execution_count": 18,
   "metadata": {},
   "outputs": [
    {
     "name": "stdout",
     "output_type": "stream",
     "text": [
      "Downloading data from https://github.com/keras-team/keras-applications/releases/download/resnet/resnet50_weights_tf_dim_ordering_tf_kernels_notop.h5\n",
      "94773248/94765736 [==============================] - 1s 0us/step\n"
     ]
    }
   ],
   "source": [
    "model = Sequential()\n",
    "\n",
    "model.add(ResNet50(include_top = False,\n",
    "                   weights = \"imagenet\",\n",
    "                   input_shape=(50,50,3)))\n",
    "# Dropout\n",
    "model.add(Dropout(0.5))\n",
    "\n",
    "# Pooling layer\n",
    "model.add(GlobalAveragePooling2D())\n",
    "\n",
    "# Dense layer\n",
    "model.add(Dense(128, \n",
    "                activation = \"relu\"))\n",
    "\n",
    "# Batch Normalizer\n",
    "model.add(BatchNormalization())\n",
    "\n",
    "# Output layer\n",
    "model.add(Dense(2, activation = \"sigmoid\"))"
   ]
  },
  {
   "cell_type": "code",
   "execution_count": 19,
   "metadata": {},
   "outputs": [],
   "source": [
    "early_stop = EarlyStopping(monitor = \"val_loss\",\n",
    "                           min_delta = 0,\n",
    "                           patience = 5)\n",
    "\n",
    "# Compile model\n",
    "model.compile(loss = \"binary_crossentropy\",\n",
    "              optimizer = Adam(lr = 0.0001),\n",
    "              metrics = [\"accuracy\"])"
   ]
  },
  {
   "cell_type": "code",
   "execution_count": 20,
   "metadata": {},
   "outputs": [
    {
     "name": "stdout",
     "output_type": "stream",
     "text": [
      "Train for 14182 steps, validate for 1576 steps\n",
      "Epoch 1/25\n",
      "14182/14182 [==============================] - 571s 40ms/step - loss: 0.4204 - accuracy: 0.8230 - val_loss: 0.4840 - val_accuracy: 0.8479\n",
      "Epoch 2/25\n",
      "14182/14182 [==============================] - 559s 39ms/step - loss: 0.3820 - accuracy: 0.8432 - val_loss: 0.3664 - val_accuracy: 0.8571\n",
      "Epoch 3/25\n",
      "14182/14182 [==============================] - 560s 40ms/step - loss: 0.3712 - accuracy: 0.8483 - val_loss: 0.3554 - val_accuracy: 0.8586\n",
      "Epoch 4/25\n",
      "14182/14182 [==============================] - 559s 39ms/step - loss: 0.3435 - accuracy: 0.8621 - val_loss: 0.3173 - val_accuracy: 0.8717\n",
      "Epoch 5/25\n",
      "14182/14182 [==============================] - 557s 39ms/step - loss: 0.3197 - accuracy: 0.8730 - val_loss: 0.3255 - val_accuracy: 0.8660\n",
      "Epoch 6/25\n",
      "14182/14182 [==============================] - 558s 39ms/step - loss: 0.2939 - accuracy: 0.8827 - val_loss: 0.3253 - val_accuracy: 0.8661\n",
      "Epoch 7/25\n",
      "14182/14182 [==============================] - 559s 39ms/step - loss: 0.2618 - accuracy: 0.8959 - val_loss: 0.3558 - val_accuracy: 0.8569\n",
      "Epoch 8/25\n",
      "14182/14182 [==============================] - 558s 39ms/step - loss: 0.2305 - accuracy: 0.9092 - val_loss: 0.3201 - val_accuracy: 0.8723\n",
      "Epoch 9/25\n",
      "14182/14182 [==============================] - 556s 39ms/step - loss: 0.1900 - accuracy: 0.9277 - val_loss: 0.3550 - val_accuracy: 0.8460\n"
     ]
    }
   ],
   "source": [
    "history = model.fit_generator(train_gen, \n",
    "                    validation_data = val_gen,\n",
    "                    callbacks = [early_stop],\n",
    "                    epochs = 25)"
   ]
  },
  {
   "cell_type": "code",
   "execution_count": 21,
   "metadata": {},
   "outputs": [
    {
     "name": "stdout",
     "output_type": "stream",
     "text": [
      "loss: 0.35500255470940434\n",
      "accuracy: 84.60464477539062%\n"
     ]
    }
   ],
   "source": [
    "\n",
    "# Evaluate model on test data.\n",
    "scores = model.evaluate_generator(test_gen)\n",
    "labels = model.metrics_names\n",
    "\n",
    "# Show model performance\n",
    "print(f'{labels[0]}: {scores[0]}')\n",
    "print(f'{labels[1]}: {scores[1]* 100}%')\n",
    "\n",
    "# Summary of the layers of the model\n",
    "#model.summary()"
   ]
  },
  {
   "cell_type": "code",
   "execution_count": 22,
   "metadata": {},
   "outputs": [],
   "source": [
    "\n",
    "# Predicted classes - Predicted Positives and Predicted Negatives \n",
    "predictions = model.predict(test_gen)\n",
    "pred = predictions[:,1]\n",
    "predicted_classes = np.argmax(predictions,axis=1)\n",
    "\n",
    "# True classes - True Positives and True Negatives \n",
    "true_classes = test_gen.classes\n",
    "class_labels = list(test_gen.class_indices.keys())"
   ]
  },
  {
   "cell_type": "code",
   "execution_count": 24,
   "metadata": {},
   "outputs": [
    {
     "name": "stdout",
     "output_type": "stream",
     "text": [
      "              precision    recall  f1-score   support\n",
      "\n",
      "    a_no_idc       0.81      0.90      0.85      7879\n",
      "   b_has_idc       0.89      0.79      0.84      7879\n",
      "\n",
      "    accuracy                           0.85     15758\n",
      "   macro avg       0.85      0.85      0.85     15758\n",
      "weighted avg       0.85      0.85      0.85     15758\n",
      "\n"
     ]
    }
   ],
   "source": [
    "# Create report\n",
    "from sklearn import metrics\n",
    "report = metrics.classification_report(true_classes, \n",
    "                                       predicted_classes,\n",
    "                                       target_names=class_labels)\n",
    "print(report)"
   ]
  },
  {
   "cell_type": "code",
   "execution_count": null,
   "metadata": {},
   "outputs": [],
   "source": [
    "# Create Confusion Matrix\n",
    "plt.style.use('seaborn')\n",
    "\n",
    "cm = metrics.confusion_matrix(true_classes,predicted_classes)\n",
    "from mlxtend.plotting import plot_confusion_matrix\n",
    "fig, ax = plot_confusion_matrix(conf_mat=cm ,  figsize=(5, 5),\n",
    "                                class_names = class_labels,\n",
    "                                show_normed = True)\n",
    "ax.set(title = \"Confusion Matrix for IDC\",\n",
    "       ylabel = \"True Labels\",\n",
    "       xlabel = \"Predicted Labels\")\n",
    "plt.show()"
   ]
  },
  {
   "cell_type": "code",
   "execution_count": null,
   "metadata": {},
   "outputs": [],
   "source": [
    "train_loss = history.history[\"accuracy\"]\n",
    "test_loss = history.history[\"val_accuracy\"]\n",
    "plt.figure(figsize = (9,6))\n",
    "\n",
    "\n",
    "plt.plot(train_loss, label = \"Resnet50 Model Training Accuracy\", color = \"navy\")\n",
    "plt.plot(test_loss, label = \"Resnet50 Model Testing Accuracy\" , color= \"skyblue\")\n",
    "plt.title(\"Resnet50 Model\", fontsize = 20)\n",
    "plt.xlabel(\"Epoch Count\", fontsize = 15)\n",
    "plt.ylabel(\"Accuracy\", fontsize = 15)\n",
    "plt.legend();"
   ]
  },
  {
   "cell_type": "code",
   "execution_count": 28,
   "metadata": {},
   "outputs": [
    {
     "data": {
      "image/png": "[encoded data removed]",
      "text/plain": [
       "<Figure size 576x396 with 1 Axes>"
      ]
     },
     "metadata": {},
     "output_type": "display_data"
    }
   ],
   "source": [
    "# ROC curve graph for Resnet50\n",
    "from sklearn.metrics import roc_curve, auc\n",
    "\n",
    "fpr, tpr, _ = roc_curve(true_classes, pred)\n",
    "\n",
    "\n",
    "plt.figure(1)\n",
    "plt.plot([0, 1], [0, 1], 'k--')\n",
    "plt.plot(fpr, tpr, label='Resnet50 (area: %0.2f)'\n",
    "             % auc(fpr,tpr), color = \"purple\")\n",
    "plt.xlabel('False positive rate', fontsize = 13)\n",
    "plt.ylabel('True positive rate', fontsize = 13)\n",
    "plt.title('ROC Binary Classification', fontsize = 20)\n",
    "plt.legend(loc='best')\n",
    "plt.show()"
   ]
  },
  {
   "cell_type": "code",
   "execution_count": null,
   "metadata": {},
   "outputs": [],
   "source": [
    "# save weights from this model\n",
    "model.save_weights(\"first_resnet50_model.h5\")"
   ]
  },
  {
   "cell_type": "code",
   "execution_count": null,
   "metadata": {},
   "outputs": [],
   "source": []
  },
  {
   "cell_type": "code",
   "execution_count": null,
   "metadata": {},
   "outputs": [],
   "source": []
  },
  {
   "cell_type": "code",
   "execution_count": null,
   "metadata": {},
   "outputs": [],
   "source": []
  },
  {
   "cell_type": "code",
   "execution_count": null,
   "metadata": {},
   "outputs": [],
   "source": []
  },
  {
   "cell_type": "code",
   "execution_count": null,
   "metadata": {},
   "outputs": [],
   "source": []
  },
  {
   "cell_type": "code",
   "execution_count": null,
   "metadata": {},
   "outputs": [],
   "source": []
  }
 ],
 "metadata": {
  "kernelspec": {
   "display_name": "Python 3",
   "language": "python",
   "name": "python3"
  },
  "language_info": {
   "codemirror_mode": {
    "name": "ipython",
    "version": 3
   },
   "file_extension": ".py",
   "mimetype": "text/x-python",
   "name": "python",
   "nbconvert_exporter": "python",
   "pygments_lexer": "ipython3",
   "version": "3.7.6"
  }
 },
 "nbformat": 4,
 "nbformat_minor": 4
}
