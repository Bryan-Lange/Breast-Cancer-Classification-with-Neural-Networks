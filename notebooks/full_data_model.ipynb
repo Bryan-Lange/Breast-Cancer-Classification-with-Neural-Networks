{
 "cells": [
  {
   "cell_type": "code",
   "execution_count": 1,
   "metadata": {},
   "outputs": [
    {
     "name": "stderr",
     "output_type": "stream",
     "text": [
      "Using TensorFlow backend.\n"
     ]
    }
   ],
   "source": [
    "import numpy as np \n",
    "import pandas as pd \n",
    "import itertools\n",
    "import fnmatch\n",
    "import matplotlib.pyplot as plt\n",
    "import seaborn as sns\n",
    "import cv2\n",
    "import sklearn\n",
    "from sklearn import model_selection, metrics\n",
    "from sklearn.model_selection import train_test_split, KFold, cross_val_score, StratifiedKFold, learning_curve, GridSearchCV\n",
    "from sklearn.metrics import confusion_matrix, make_scorer, accuracy_score\n",
    "from glob import glob\n",
    "from skimage import io\n",
    "from os import listdir\n",
    "from tensorflow.keras import backend as K\n",
    "import tensorflow as tf\n",
    "from tensorflow import keras\n",
    "from keras.callbacks import History\n",
    "from keras.preprocessing.image import ImageDataGenerator\n",
    "from keras.utils.np_utils import to_categorical\n",
    "from keras.models import Sequential, model_from_json\n",
    "from keras.optimizers import SGD, RMSprop, Adam, Adagrad, Adadelta\n",
    "from keras.layers import Dense, Dropout, Activation, BatchNormalization, Conv2D, MaxPool2D, MaxPooling2D, Flatten\n",
    "from keras.preprocessing.image import ImageDataGenerator\n",
    "from keras.callbacks import Callback, EarlyStopping, ReduceLROnPlateau, ModelCheckpoint\n",
    "import pickle\n",
    "from keras.models import load_model\n",
    "from tensorflow.keras import layers"
   ]
  },
  {
   "cell_type": "code",
   "execution_count": 2,
   "metadata": {},
   "outputs": [
    {
     "name": "stdout",
     "output_type": "stream",
     "text": [
      "./IDC_regular_ps50_idx5/9036/0/9036_idx5_x1051_y2401_class0.png\n",
      "./IDC_regular_ps50_idx5/9036/0/9036_idx5_x2951_y951_class0.png\n",
      "./IDC_regular_ps50_idx5/9036/0/9036_idx5_x3001_y1451_class0.png\n",
      "./IDC_regular_ps50_idx5/9036/0/9036_idx5_x3051_y801_class0.png\n",
      "./IDC_regular_ps50_idx5/9036/0/9036_idx5_x951_y1901_class0.png\n"
     ]
    }
   ],
   "source": [
    "imagePatches = glob('./IDC_regular_ps50_idx5/**/*.png', recursive=True)\n",
    "for filename in imagePatches[0:5]:\n",
    "    print(filename)"
   ]
  },
  {
   "cell_type": "code",
   "execution_count": 3,
   "metadata": {},
   "outputs": [
    {
     "name": "stdout",
     "output_type": "stream",
     "text": [
      "IDC(-)\n",
      "\n",
      " ['./IDC_regular_ps50_idx5/9036/0/9036_idx5_x1051_y2401_class0.png', './IDC_regular_ps50_idx5/9036/0/9036_idx5_x2951_y951_class0.png'] \n",
      "\n",
      "IDC(+)\n",
      "\n",
      " ['./IDC_regular_ps50_idx5/9036/1/9036_idx5_x1851_y1351_class1.png', './IDC_regular_ps50_idx5/9036/1/9036_idx5_x1851_y1451_class1.png']\n"
     ]
    }
   ],
   "source": [
    "patternZero = '*class0.png'\n",
    "patternOne = '*class1.png'\n",
    "classZero = fnmatch.filter(imagePatches, patternZero)\n",
    "classOne = fnmatch.filter(imagePatches, patternOne)\n",
    "dict_characters = {0: 'IDC(-)', 1: 'IDC(+)'}\n",
    "print(\"IDC(-)\\n\\n\",classZero[0:2],'\\n')\n",
    "print(\"IDC(+)\\n\\n\",classOne[0:2])"
   ]
  },
  {
   "cell_type": "code",
   "execution_count": 4,
   "metadata": {},
   "outputs": [],
   "source": [
    "def proc_images(lowerIndex,upperIndex):\n",
    "    \"\"\"\n",
    "    Returns two arrays: \n",
    "        x is an array of resized images\n",
    "        y is an array of labels\n",
    "    \"\"\" \n",
    "    x = []\n",
    "    y = []\n",
    "    WIDTH = 50\n",
    "    HEIGHT = 50\n",
    "    channels = 3\n",
    "    for img in imagePatches[lowerIndex:upperIndex]:\n",
    "        full_size_image = cv2.imread(img)\n",
    "        x.append(cv2.resize(full_size_image, (WIDTH,HEIGHT), interpolation=cv2.INTER_CUBIC))\n",
    "        if img in classZero:\n",
    "            y.append(0)\n",
    "        elif img in classOne:\n",
    "            y.append(1)\n",
    "        else:\n",
    "            return\n",
    "    return x,y"
   ]
  },
  {
   "cell_type": "code",
   "execution_count": 5,
   "metadata": {},
   "outputs": [],
   "source": [
    "X,Y = proc_images(0,278000)"
   ]
  },
  {
   "cell_type": "code",
   "execution_count": 6,
   "metadata": {},
   "outputs": [
    {
     "name": "stdout",
     "output_type": "stream",
     "text": [
      "Training Data Shape: (249771, 50, 50, 3)\n",
      "Testing Data Shape: (27753, 50, 50, 3)\n"
     ]
    }
   ],
   "source": [
    "X=np.array(X)\n",
    "X= X.astype(np.float32)\n",
    "X/=255.0\n",
    "\n",
    "X_train, X_test, Y_train, Y_test = train_test_split(X, Y, test_size=0.10, random_state=1984)\n",
    "\n",
    "print(\"Training Data Shape:\", X_train.shape)\n",
    "print(\"Testing Data Shape:\", X_test.shape)"
   ]
  },
  {
   "cell_type": "code",
   "execution_count": 7,
   "metadata": {},
   "outputs": [
    {
     "data": {
      "text/plain": [
       "(178852, 70919)"
      ]
     },
     "execution_count": 7,
     "metadata": {},
     "output_type": "execute_result"
    }
   ],
   "source": [
    "Y_train.count(0), Y_train.count(1)"
   ]
  },
  {
   "cell_type": "code",
   "execution_count": 8,
   "metadata": {},
   "outputs": [],
   "source": [
    "Y_train = to_categorical(Y_train)\n",
    "Y_test = to_categorical(Y_test)"
   ]
  },
  {
   "cell_type": "code",
   "execution_count": 36,
   "metadata": {},
   "outputs": [
    {
     "data": {
      "text/plain": [
       "50"
      ]
     },
     "execution_count": 36,
     "metadata": {},
     "output_type": "execute_result"
    }
   ],
   "source": [
    "X_train.shape[2]"
   ]
  },
  {
   "cell_type": "code",
   "execution_count": 9,
   "metadata": {},
   "outputs": [],
   "source": [
    "X_trainShape = X_train.shape[1]*X_train.shape[2]*X_train.shape[3]\n",
    "X_testShape = X_test.shape[1]*X_test.shape[2]*X_test.shape[3]\n",
    "X_trainFlat = X_train.reshape(X_train.shape[0], X_trainShape)\n",
    "X_testFlat = X_test.reshape(X_test.shape[0], X_testShape)"
   ]
  },
  {
   "cell_type": "code",
   "execution_count": 10,
   "metadata": {},
   "outputs": [
    {
     "name": "stderr",
     "output_type": "stream",
     "text": [
      "/Applications/anaconda3/lib/python3.7/site-packages/sklearn/utils/validation.py:71: FutureWarning: Pass classes=[0 1] as keyword args. From version 0.25 passing these as positional arguments will result in an error\n",
      "  FutureWarning)\n",
      "/Applications/anaconda3/lib/python3.7/site-packages/sklearn/utils/validation.py:71: FutureWarning: Pass classes=[0 1] as keyword args. From version 0.25 passing these as positional arguments will result in an error\n",
      "  FutureWarning)\n"
     ]
    }
   ],
   "source": [
    "from imblearn.under_sampling import RandomUnderSampler\n",
    "random_under_sampler = RandomUnderSampler()\n",
    "X_trainRus, Y_trainRus = random_under_sampler.fit_sample(X_trainFlat, Y_train)\n",
    "X_testRus, Y_testRus = random_under_sampler.fit_sample(X_testFlat, Y_test)"
   ]
  },
  {
   "cell_type": "code",
   "execution_count": 11,
   "metadata": {},
   "outputs": [],
   "source": [
    "Y_trainRusHot = to_categorical(Y_trainRus, num_classes=2)\n",
    "Y_testRusHot = to_categorical(Y_testRus, num_classes=2)"
   ]
  },
  {
   "cell_type": "code",
   "execution_count": 12,
   "metadata": {},
   "outputs": [
    {
     "data": {
      "text/plain": [
       "(array([0, 1]), array([70919, 70919]))"
      ]
     },
     "execution_count": 12,
     "metadata": {},
     "output_type": "execute_result"
    }
   ],
   "source": [
    "np.unique(Y_trainRus, return_counts=True)"
   ]
  },
  {
   "cell_type": "code",
   "execution_count": 13,
   "metadata": {},
   "outputs": [],
   "source": [
    "for i in range(len(X_trainRus)):\n",
    "    height, width, channels = 50, 50, 3\n",
    "    X_trainRusReshaped = X_trainRus.reshape(len(X_trainRus), height, width, channels)"
   ]
  },
  {
   "cell_type": "code",
   "execution_count": 14,
   "metadata": {},
   "outputs": [],
   "source": [
    "for i in range(len(X_testRus)):\n",
    "    height, width, channels = 50, 50, 3\n",
    "    X_testRusReshaped = X_testRus.reshape(len(X_testRus), height, width, channels)"
   ]
  },
  {
   "cell_type": "code",
   "execution_count": 15,
   "metadata": {},
   "outputs": [],
   "source": [
    "batch_size = 512\n",
    "num_classes = 2\n",
    "epochs = 30\n",
    "model = Sequential()\n",
    "model.add(Conv2D(64, kernel_size=(3,3),activation='relu',input_shape=(50,50,3)))\n",
    "model.add(MaxPooling2D(pool_size=(2, 2)))\n",
    "model.add(Conv2D(128, (3, 3), activation='relu'))\n",
    "model.add(MaxPooling2D(pool_size=(2,2)))\n",
    "model.add(Conv2D(256, (3, 3), activation='relu'))\n",
    "model.add(MaxPooling2D(pool_size=(2,2)))\n",
    "model.add(Conv2D(512, (3, 3), activation='relu'))\n",
    "model.add(MaxPooling2D(pool_size=(2,2)))\n",
    "model.add(Flatten()) \n",
    "model.add(Dropout(0.5))\n",
    "model.add(Dense(1024, activation='relu'))\n",
    "model.add(Dropout(0.5))\n",
    "model.add(Dense(512, activation='relu'))\n",
    "model.add(Dropout(0.5))\n",
    "model.add(Dense(128, activation='relu'))\n",
    "model.add(Dropout(0.5))\n",
    "model.add(Dense(64, activation='relu'))\n",
    "model.add(Dropout(0.5))\n",
    "model.add(Dense(32, activation='relu'))\n",
    "model.add(Dropout(0.5))\n",
    "model.add(Dense(num_classes, activation='sigmoid'))"
   ]
  },
  {
   "cell_type": "code",
   "execution_count": 16,
   "metadata": {},
   "outputs": [],
   "source": [
    "model.compile(loss=keras.losses.binary_crossentropy,\n",
    "              optimizer=keras.optimizers.Adam(lr=0.0001),\n",
    "              metrics=['accuracy'])"
   ]
  },
  {
   "cell_type": "code",
   "execution_count": 17,
   "metadata": {},
   "outputs": [
    {
     "name": "stdout",
     "output_type": "stream",
     "text": [
      "Model: \"sequential_1\"\n",
      "_________________________________________________________________\n",
      "Layer (type)                 Output Shape              Param #   \n",
      "=================================================================\n",
      "conv2d_1 (Conv2D)            (None, 48, 48, 64)        1792      \n",
      "_________________________________________________________________\n",
      "max_pooling2d_1 (MaxPooling2 (None, 24, 24, 64)        0         \n",
      "_________________________________________________________________\n",
      "conv2d_2 (Conv2D)            (None, 22, 22, 128)       73856     \n",
      "_________________________________________________________________\n",
      "max_pooling2d_2 (MaxPooling2 (None, 11, 11, 128)       0         \n",
      "_________________________________________________________________\n",
      "conv2d_3 (Conv2D)            (None, 9, 9, 256)         295168    \n",
      "_________________________________________________________________\n",
      "max_pooling2d_3 (MaxPooling2 (None, 4, 4, 256)         0         \n",
      "_________________________________________________________________\n",
      "conv2d_4 (Conv2D)            (None, 2, 2, 512)         1180160   \n",
      "_________________________________________________________________\n",
      "max_pooling2d_4 (MaxPooling2 (None, 1, 1, 512)         0         \n",
      "_________________________________________________________________\n",
      "flatten_1 (Flatten)          (None, 512)               0         \n",
      "_________________________________________________________________\n",
      "dropout_1 (Dropout)          (None, 512)               0         \n",
      "_________________________________________________________________\n",
      "dense_1 (Dense)              (None, 1024)              525312    \n",
      "_________________________________________________________________\n",
      "dropout_2 (Dropout)          (None, 1024)              0         \n",
      "_________________________________________________________________\n",
      "dense_2 (Dense)              (None, 512)               524800    \n",
      "_________________________________________________________________\n",
      "dropout_3 (Dropout)          (None, 512)               0         \n",
      "_________________________________________________________________\n",
      "dense_3 (Dense)              (None, 128)               65664     \n",
      "_________________________________________________________________\n",
      "dropout_4 (Dropout)          (None, 128)               0         \n",
      "_________________________________________________________________\n",
      "dense_4 (Dense)              (None, 64)                8256      \n",
      "_________________________________________________________________\n",
      "dropout_5 (Dropout)          (None, 64)                0         \n",
      "_________________________________________________________________\n",
      "dense_5 (Dense)              (None, 32)                2080      \n",
      "_________________________________________________________________\n",
      "dropout_6 (Dropout)          (None, 32)                0         \n",
      "_________________________________________________________________\n",
      "dense_6 (Dense)              (None, 2)                 66        \n",
      "=================================================================\n",
      "Total params: 2,677,154\n",
      "Trainable params: 2,677,154\n",
      "Non-trainable params: 0\n",
      "_________________________________________________________________\n"
     ]
    }
   ],
   "source": [
    "model.summary()"
   ]
  },
  {
   "cell_type": "code",
   "execution_count": 18,
   "metadata": {},
   "outputs": [],
   "source": [
    "datagen = ImageDataGenerator(\n",
    "    featurewise_center=False,  # set input mean to 0 over the dataset\n",
    "    samplewise_center=False,  # set each sample mean to 0\n",
    "    featurewise_std_normalization=False,  # divide inputs by std of the dataset\n",
    "    samplewise_std_normalization=False,  # divide each input by its std\n",
    "    zca_whitening=False,  # apply ZCA whitening\n",
    "    rotation_range=45,  # randomly rotate images in the range (degrees, 0 to 180)\n",
    "    width_shift_range=0.2,  # randomly shift images horizontally (fraction of total width)\n",
    "    height_shift_range=0.2,  # randomly shift images vertically (fraction of total height)\n",
    "    horizontal_flip=True,  # randomly flip images\n",
    "    vertical_flip=True) "
   ]
  },
  {
   "cell_type": "code",
   "execution_count": 19,
   "metadata": {},
   "outputs": [],
   "source": [
    "early_stopping_monitor = EarlyStopping(monitor='val_loss', patience=5, mode='min')\n",
    "model_checkpoint = ModelCheckpoint('best_model.h5', monitor='val_loss', mode='min', verbose=1, save_best_only=True)"
   ]
  },
  {
   "cell_type": "code",
   "execution_count": 20,
   "metadata": {},
   "outputs": [
    {
     "name": "stdout",
     "output_type": "stream",
     "text": [
      "Epoch 1/30\n",
      "278/277 [==============================] - 393s 1s/step - loss: 0.6592 - accuracy: 0.6065 - val_loss: 0.5148 - val_accuracy: 0.7761\n",
      "\n",
      "Epoch 00001: val_loss improved from inf to 0.51477, saving model to best_model.h5\n",
      "Epoch 2/30\n"
     ]
    },
    {
     "name": "stderr",
     "output_type": "stream",
     "text": [
      "/Applications/anaconda3/lib/python3.7/site-packages/keras/engine/saving.py:165: UserWarning: TensorFlow optimizers do not make it possible to access optimizer attributes or optimizer state after instantiation. As a result, we cannot save the optimizer as part of the model save file.You will have to compile your model again after loading it. Prefer using a Keras optimizer instead (see keras.io/optimizers).\n",
      "  'TensorFlow optimizers do not '\n"
     ]
    },
    {
     "name": "stdout",
     "output_type": "stream",
     "text": [
      "278/277 [==============================] - 380s 1s/step - loss: 0.5241 - accuracy: 0.7826 - val_loss: 0.4720 - val_accuracy: 0.7848\n",
      "\n",
      "Epoch 00002: val_loss improved from 0.51477 to 0.47197, saving model to best_model.h5\n",
      "Epoch 3/30\n",
      "278/277 [==============================] - 379s 1s/step - loss: 0.4901 - accuracy: 0.7959 - val_loss: 0.4491 - val_accuracy: 0.7898\n",
      "\n",
      "Epoch 00003: val_loss improved from 0.47197 to 0.44906, saving model to best_model.h5\n",
      "Epoch 4/30\n",
      "278/277 [==============================] - 399s 1s/step - loss: 0.4642 - accuracy: 0.8077 - val_loss: 0.4057 - val_accuracy: 0.8232\n",
      "\n",
      "Epoch 00004: val_loss improved from 0.44906 to 0.40566, saving model to best_model.h5\n",
      "Epoch 5/30\n",
      "278/277 [==============================] - 391s 1s/step - loss: 0.4517 - accuracy: 0.8152 - val_loss: 0.4173 - val_accuracy: 0.8133\n",
      "\n",
      "Epoch 00005: val_loss did not improve from 0.40566\n",
      "Epoch 6/30\n",
      "278/277 [==============================] - 376s 1s/step - loss: 0.4371 - accuracy: 0.8232 - val_loss: 0.4202 - val_accuracy: 0.8086\n",
      "\n",
      "Epoch 00006: val_loss did not improve from 0.40566\n",
      "Epoch 7/30\n",
      "278/277 [==============================] - 377s 1s/step - loss: 0.4227 - accuracy: 0.8294 - val_loss: 0.3922 - val_accuracy: 0.8349\n",
      "\n",
      "Epoch 00007: val_loss improved from 0.40566 to 0.39222, saving model to best_model.h5\n",
      "Epoch 8/30\n",
      "278/277 [==============================] - 377s 1s/step - loss: 0.4175 - accuracy: 0.8325 - val_loss: 0.3904 - val_accuracy: 0.8363\n",
      "\n",
      "Epoch 00008: val_loss improved from 0.39222 to 0.39039, saving model to best_model.h5\n",
      "Epoch 9/30\n",
      "278/277 [==============================] - 375s 1s/step - loss: 0.4155 - accuracy: 0.8336 - val_loss: 0.3977 - val_accuracy: 0.8307\n",
      "\n",
      "Epoch 00009: val_loss did not improve from 0.39039\n",
      "Epoch 10/30\n",
      "278/277 [==============================] - 378s 1s/step - loss: 0.4069 - accuracy: 0.8371 - val_loss: 0.3924 - val_accuracy: 0.8389\n",
      "\n",
      "Epoch 00010: val_loss did not improve from 0.39039\n",
      "Epoch 11/30\n",
      "278/277 [==============================] - 377s 1s/step - loss: 0.3992 - accuracy: 0.8393 - val_loss: 0.3599 - val_accuracy: 0.8502\n",
      "\n",
      "Epoch 00011: val_loss improved from 0.39039 to 0.35991, saving model to best_model.h5\n",
      "Epoch 12/30\n",
      "278/277 [==============================] - 378s 1s/step - loss: 0.4017 - accuracy: 0.8388 - val_loss: 0.3568 - val_accuracy: 0.8531\n",
      "\n",
      "Epoch 00012: val_loss improved from 0.35991 to 0.35676, saving model to best_model.h5\n",
      "Epoch 13/30\n",
      "278/277 [==============================] - 379s 1s/step - loss: 0.3902 - accuracy: 0.8424 - val_loss: 0.3539 - val_accuracy: 0.8538\n",
      "\n",
      "Epoch 00013: val_loss improved from 0.35676 to 0.35393, saving model to best_model.h5\n",
      "Epoch 14/30\n",
      "278/277 [==============================] - 376s 1s/step - loss: 0.3884 - accuracy: 0.8444 - val_loss: 0.3583 - val_accuracy: 0.8508\n",
      "\n",
      "Epoch 00014: val_loss did not improve from 0.35393\n",
      "Epoch 15/30\n",
      "278/277 [==============================] - 378s 1s/step - loss: 0.3840 - accuracy: 0.8451 - val_loss: 0.3754 - val_accuracy: 0.8396\n",
      "\n",
      "Epoch 00015: val_loss did not improve from 0.35393\n",
      "Epoch 16/30\n",
      "278/277 [==============================] - 377s 1s/step - loss: 0.3823 - accuracy: 0.8457 - val_loss: 0.3705 - val_accuracy: 0.8445\n",
      "\n",
      "Epoch 00016: val_loss did not improve from 0.35393\n",
      "Epoch 17/30\n",
      "278/277 [==============================] - 377s 1s/step - loss: 0.3798 - accuracy: 0.8474 - val_loss: 0.3467 - val_accuracy: 0.8566\n",
      "\n",
      "Epoch 00017: val_loss improved from 0.35393 to 0.34665, saving model to best_model.h5\n",
      "Epoch 18/30\n",
      "278/277 [==============================] - 371s 1s/step - loss: 0.3754 - accuracy: 0.8492 - val_loss: 0.3485 - val_accuracy: 0.8533\n",
      "\n",
      "Epoch 00018: val_loss did not improve from 0.34665\n",
      "Epoch 19/30\n",
      "278/277 [==============================] - 371s 1s/step - loss: 0.3731 - accuracy: 0.8496 - val_loss: 0.3730 - val_accuracy: 0.8391\n",
      "\n",
      "Epoch 00019: val_loss did not improve from 0.34665\n",
      "Epoch 20/30\n",
      "278/277 [==============================] - 377s 1s/step - loss: 0.3746 - accuracy: 0.8497 - val_loss: 0.3648 - val_accuracy: 0.8462\n",
      "\n",
      "Epoch 00020: val_loss did not improve from 0.34665\n",
      "Epoch 21/30\n",
      "278/277 [==============================] - 376s 1s/step - loss: 0.3708 - accuracy: 0.8507 - val_loss: 0.3396 - val_accuracy: 0.8569\n",
      "\n",
      "Epoch 00021: val_loss improved from 0.34665 to 0.33959, saving model to best_model.h5\n",
      "Epoch 22/30\n",
      "278/277 [==============================] - 377s 1s/step - loss: 0.3676 - accuracy: 0.8504 - val_loss: 0.3498 - val_accuracy: 0.8550\n",
      "\n",
      "Epoch 00022: val_loss did not improve from 0.33959\n",
      "Epoch 23/30\n",
      "278/277 [==============================] - 377s 1s/step - loss: 0.3642 - accuracy: 0.8529 - val_loss: 0.3362 - val_accuracy: 0.8597\n",
      "\n",
      "Epoch 00023: val_loss improved from 0.33959 to 0.33619, saving model to best_model.h5\n",
      "Epoch 24/30\n",
      "278/277 [==============================] - 482s 2s/step - loss: 0.3659 - accuracy: 0.8528 - val_loss: 0.3421 - val_accuracy: 0.8547\n",
      "\n",
      "Epoch 00024: val_loss did not improve from 0.33619\n",
      "Epoch 25/30\n",
      "278/277 [==============================] - 525s 2s/step - loss: 0.3665 - accuracy: 0.8522 - val_loss: 0.3428 - val_accuracy: 0.8559\n",
      "\n",
      "Epoch 00025: val_loss did not improve from 0.33619\n",
      "Epoch 26/30\n",
      "278/277 [==============================] - 492s 2s/step - loss: 0.3634 - accuracy: 0.8541 - val_loss: 0.3499 - val_accuracy: 0.8542\n",
      "\n",
      "Epoch 00026: val_loss did not improve from 0.33619\n",
      "Epoch 27/30\n",
      "278/277 [==============================] - 378s 1s/step - loss: 0.3638 - accuracy: 0.8539 - val_loss: 0.3736 - val_accuracy: 0.8405\n",
      "\n",
      "Epoch 00027: val_loss did not improve from 0.33619\n",
      "Epoch 28/30\n",
      "278/277 [==============================] - 378s 1s/step - loss: 0.3596 - accuracy: 0.8547 - val_loss: 0.3421 - val_accuracy: 0.8529\n",
      "\n",
      "Epoch 00028: val_loss did not improve from 0.33619\n"
     ]
    }
   ],
   "source": [
    "history = model.fit_generator(datagen.flow(X_trainRusReshaped,Y_trainRusHot,batch_size=batch_size),\n",
    "                steps_per_epoch=len(X_trainRusReshaped) / batch_size, epochs=epochs,validation_data=(X_testRusReshaped, Y_testRusHot),\n",
    "                verbose=1, callbacks=[early_stopping_monitor, model_checkpoint])"
   ]
  },
  {
   "cell_type": "code",
   "execution_count": 21,
   "metadata": {},
   "outputs": [
    {
     "name": "stdout",
     "output_type": "stream",
     "text": [
      "CNN Accuracy Score 0.852929949760437 \n",
      "\n",
      "\n",
      "              precision    recall  f1-score   support\n",
      "\n",
      "      IDC(-)       0.91      0.78      0.84      7867\n",
      "      IDC(+)       0.81      0.92      0.86      7867\n",
      "\n",
      "    accuracy                           0.85     15734\n",
      "   macro avg       0.86      0.85      0.85     15734\n",
      "weighted avg       0.86      0.85      0.85     15734\n",
      "\n"
     ]
    }
   ],
   "source": [
    "score = model.evaluate(X_testRusReshaped, Y_testRusHot, verbose=0)\n",
    "y_pred = model.predict(X_testRusReshaped)\n",
    "map_characters = {0: 'IDC(-)', 1: 'IDC(+)'}\n",
    "print('CNN Accuracy Score', score[1],'\\n')\n",
    "print('\\n', sklearn.metrics.classification_report(np.where(Y_testRusHot > 0)[1], np.argmax(y_pred, axis=1), target_names=list(map_characters.values())), sep='')\n"
   ]
  },
  {
   "cell_type": "code",
   "execution_count": 25,
   "metadata": {},
   "outputs": [
    {
     "data": {
      "text/plain": [
       "<matplotlib.legend.Legend at 0x7fdfe170bb10>"
      ]
     },
     "execution_count": 25,
     "metadata": {},
     "output_type": "execute_result"
    },
    {
     "data": {
      "image/png": "[encoded data removed]",
      "text/plain": [
       "<Figure size 1080x648 with 1 Axes>"
      ]
     },
     "metadata": {
      "needs_background": "light"
     },
     "output_type": "display_data"
    }
   ],
   "source": [
    "plt.figure(figsize=(15,9))\n",
    "plt.plot(history.history['accuracy'])\n",
    "plt.plot(history.history['val_accuracy'])\n",
    "plt.title('Full Conv2D Model Accuracy')\n",
    "plt.xlabel('Epoch')\n",
    "plt.ylabel('Accuracy')\n",
    "plt.legend(['train', 'test'], loc='upper left')"
   ]
  },
  {
   "cell_type": "code",
   "execution_count": 25,
   "metadata": {},
   "outputs": [
    {
     "data": {
      "text/plain": [
       "<matplotlib.legend.Legend at 0x1611e1cd0>"
      ]
     },
     "execution_count": 25,
     "metadata": {},
     "output_type": "execute_result"
    },
    {
     "data": {
      "image/png": "[encoded data removed]",
      "text/plain": [
       "<Figure size 1080x648 with 1 Axes>"
      ]
     },
     "metadata": {
      "needs_background": "light"
     },
     "output_type": "display_data"
    }
   ],
   "source": [
    "plt.figure(figsize=(15,9))\n",
    "plt.plot(history.history['accuracy'], color='cyan')\n",
    "plt.plot(history.history['val_accuracy'], color='violet')\n",
    "plt.plot(history.history['loss'])\n",
    "plt.plot(history.history['val_loss'])\n",
    "plt.title('Full')\n",
    "plt.xlabel('Epoch')\n",
    "plt.ylabel('Loss')\n",
    "plt.legend(['train', 'test'], loc='upper right')"
   ]
  },
  {
   "cell_type": "code",
   "execution_count": null,
   "metadata": {},
   "outputs": [],
   "source": [
    "y_pred_one_hot = model.predict(X_testRusReshaped)\n",
    "y_pred_labels = np.argmax(y_pred_one_hot, axis = 1)\n",
    "y_true_labels = np.argmax(Y_testRusHot,axis=1)\n",
    "confusion_matrix = metrics.confusion_matrix(y_true=y_true_labels, y_pred=y_pred_labels)\n",
    "print(confusion_matrix)"
   ]
  },
  {
   "cell_type": "code",
   "execution_count": 38,
   "metadata": {},
   "outputs": [
    {
     "name": "stdout",
     "output_type": "stream",
     "text": [
      "[[6593 1274]\n",
      " [ 934 6933]]\n"
     ]
    }
   ],
   "source": [
    "model = load_model('best_model.h5')\n",
    "\n",
    "preds = model.predict(X_testRusReshaped)\n",
    "y_pred_labels = np.argmax(preds, axis = 1)\n",
    "\n",
    "y_true_labels = np.argmax(Y_testRusHot,axis=1)\n",
    "\n",
    "confusion_matrix = metrics.confusion_matrix(y_true=y_true_labels, y_pred=y_pred_labels)\n",
    "print(confusion_matrix)"
   ]
  },
  {
   "cell_type": "code",
   "execution_count": 49,
   "metadata": {},
   "outputs": [
    {
     "data": {
      "text/plain": [
       "array([[0.9746208 , 0.02506059],\n",
       "       [0.97701275, 0.02278483],\n",
       "       [0.38747153, 0.6134969 ],\n",
       "       ...,\n",
       "       [0.56684154, 0.4368201 ],\n",
       "       [0.26279867, 0.7358743 ],\n",
       "       [0.03667714, 0.96294326]], dtype=float32)"
      ]
     },
     "execution_count": 49,
     "metadata": {},
     "output_type": "execute_result"
    }
   ],
   "source": [
    "preds"
   ]
  },
  {
   "cell_type": "code",
   "execution_count": 50,
   "metadata": {},
   "outputs": [
    {
     "data": {
      "text/plain": [
       "array([0, 0, 1])"
      ]
     },
     "execution_count": 50,
     "metadata": {},
     "output_type": "execute_result"
    }
   ],
   "source": [
    "y_pred_labels[:3]"
   ]
  },
  {
   "cell_type": "code",
   "execution_count": 55,
   "metadata": {},
   "outputs": [
    {
     "name": "stdout",
     "output_type": "stream",
     "text": [
      "Model: \"sequential_2\"\n",
      "_________________________________________________________________\n",
      "Layer (type)                 Output Shape              Param #   \n",
      "=================================================================\n",
      "flatten_2 (Flatten)          (None, 7500)              0         \n",
      "=================================================================\n",
      "Total params: 0\n",
      "Trainable params: 0\n",
      "Non-trainable params: 0\n",
      "_________________________________________________________________\n"
     ]
    }
   ],
   "source": [
    "model = Sequential()\n",
    "model.add(Flatten(input_shape=(50,50,3)))\n",
    "model.summary()"
   ]
  },
  {
   "cell_type": "code",
   "execution_count": 57,
   "metadata": {},
   "outputs": [],
   "source": [
    "model.add(Dense(128, activation='relu'))\n",
    "model.add(Dense(132, activation='relu'))\n",
    "model.add(Dense(2, activation='sigmoid'))"
   ]
  },
  {
   "cell_type": "code",
   "execution_count": 58,
   "metadata": {},
   "outputs": [
    {
     "name": "stdout",
     "output_type": "stream",
     "text": [
      "Model: \"sequential_2\"\n",
      "_________________________________________________________________\n",
      "Layer (type)                 Output Shape              Param #   \n",
      "=================================================================\n",
      "flatten_2 (Flatten)          (None, 7500)              0         \n",
      "_________________________________________________________________\n",
      "dense_7 (Dense)              (None, 128)               960128    \n",
      "_________________________________________________________________\n",
      "dense_8 (Dense)              (None, 132)               17028     \n",
      "_________________________________________________________________\n",
      "dense_9 (Dense)              (None, 2)                 266       \n",
      "=================================================================\n",
      "Total params: 977,422\n",
      "Trainable params: 977,422\n",
      "Non-trainable params: 0\n",
      "_________________________________________________________________\n"
     ]
    }
   ],
   "source": [
    "model.summary()"
   ]
  },
  {
   "cell_type": "code",
   "execution_count": 59,
   "metadata": {},
   "outputs": [],
   "source": [
    "model.compile(loss=keras.losses.binary_crossentropy,\n",
    "              optimizer=keras.optimizers.Adam(lr=0.0001),\n",
    "              metrics=['accuracy'])"
   ]
  },
  {
   "cell_type": "code",
   "execution_count": 67,
   "metadata": {},
   "outputs": [
    {
     "name": "stdout",
     "output_type": "stream",
     "text": [
      "Train on 141838 samples, validate on 15734 samples\n",
      "Epoch 1/10\n",
      "141838/141838 [==============================] - 11s 79us/step - loss: 0.5302 - accuracy: 0.7486 - val_loss: 0.5131 - val_accuracy: 0.7585\n",
      "Epoch 2/10\n",
      "141838/141838 [==============================] - 7s 50us/step - loss: 0.4804 - accuracy: 0.7799 - val_loss: 0.4619 - val_accuracy: 0.7930\n",
      "Epoch 3/10\n",
      "141838/141838 [==============================] - 7s 50us/step - loss: 0.4733 - accuracy: 0.7839 - val_loss: 0.4999 - val_accuracy: 0.7715\n",
      "Epoch 4/10\n",
      "141838/141838 [==============================] - 7s 50us/step - loss: 0.4702 - accuracy: 0.7852 - val_loss: 0.4899 - val_accuracy: 0.7761\n",
      "Epoch 5/10\n",
      "141838/141838 [==============================] - 7s 50us/step - loss: 0.4657 - accuracy: 0.7873 - val_loss: 0.4804 - val_accuracy: 0.7826\n",
      "Epoch 6/10\n",
      "141838/141838 [==============================] - 7s 50us/step - loss: 0.4625 - accuracy: 0.7887 - val_loss: 0.4782 - val_accuracy: 0.7837\n",
      "Epoch 7/10\n",
      "141838/141838 [==============================] - 7s 51us/step - loss: 0.4583 - accuracy: 0.7895 - val_loss: 0.4520 - val_accuracy: 0.7981\n",
      "Epoch 8/10\n",
      "141838/141838 [==============================] - 7s 51us/step - loss: 0.4589 - accuracy: 0.7890 - val_loss: 0.4547 - val_accuracy: 0.7974\n",
      "Epoch 9/10\n",
      "141838/141838 [==============================] - 7s 51us/step - loss: 0.4573 - accuracy: 0.7900 - val_loss: 0.4518 - val_accuracy: 0.7952\n",
      "Epoch 10/10\n",
      "141838/141838 [==============================] - 7s 50us/step - loss: 0.4544 - accuracy: 0.7906 - val_loss: 0.4478 - val_accuracy: 0.7989\n"
     ]
    }
   ],
   "source": [
    "history = model.fit(X_trainRusReshaped,\n",
    "                    Y_trainRusHot,\n",
    "                    batch_size=256,\n",
    "                    validation_data=(X_testRusReshaped, Y_testRusHot),\n",
    "                    epochs=10,\n",
    "                    verbose=1)"
   ]
  },
  {
   "cell_type": "code",
   "execution_count": 70,
   "metadata": {},
   "outputs": [
    {
     "name": "stdout",
     "output_type": "stream",
     "text": [
      "Feed Forward Accuracy Score 0.7989068031311035 \n",
      "\n",
      "\n",
      "              precision    recall  f1-score   support\n",
      "\n",
      "      IDC(-)       0.79      0.82      0.80      7867\n",
      "      IDC(+)       0.81      0.78      0.79      7867\n",
      "\n",
      "    accuracy                           0.80     15734\n",
      "   macro avg       0.80      0.80      0.80     15734\n",
      "weighted avg       0.80      0.80      0.80     15734\n",
      "\n"
     ]
    }
   ],
   "source": [
    "score = model.evaluate(X_testRusReshaped, Y_testRusHot, verbose=0)\n",
    "y_pred = model.predict(X_testRusReshaped)\n",
    "map_characters = {0: 'IDC(-)', 1: 'IDC(+)'}\n",
    "print('Feed Forward Accuracy Score', score[1],'\\n')\n",
    "print('\\n', sklearn.metrics.classification_report(np.where(Y_testRusHot > 0)[1], np.argmax(y_pred, axis=1), target_names=list(map_characters.values())), sep='')\n"
   ]
  },
  {
   "cell_type": "code",
   "execution_count": 69,
   "metadata": {},
   "outputs": [
    {
     "data": {
      "text/plain": [
       "<matplotlib.legend.Legend at 0x7fdffc738e10>"
      ]
     },
     "execution_count": 69,
     "metadata": {},
     "output_type": "execute_result"
    },
    {
     "data": {
      "image/png": "[encoded data removed]",
      "text/plain": [
       "<Figure size 1080x648 with 1 Axes>"
      ]
     },
     "metadata": {},
     "output_type": "display_data"
    }
   ],
   "source": [
    "plt.figure(figsize=(15,9))\n",
    "plt.plot(history.history['accuracy'])\n",
    "plt.plot(history.history['val_accuracy'])\n",
    "plt.title('Full Feed Forward Model')\n",
    "plt.xlabel('Epoch')\n",
    "plt.ylabel('Accuracy')\n",
    "plt.legend(['train', 'test'], loc='upper left')"
   ]
  },
  {
   "cell_type": "code",
   "execution_count": 71,
   "metadata": {},
   "outputs": [
    {
     "name": "stdout",
     "output_type": "stream",
     "text": [
      "[[6444 1423]\n",
      " [1741 6126]]\n"
     ]
    }
   ],
   "source": [
    "y_pred_one_hot = model.predict(X_testRusReshaped)\n",
    "y_pred_labels = np.argmax(y_pred_one_hot, axis = 1)\n",
    "y_true_labels = np.argmax(Y_testRusHot,axis=1)\n",
    "confusion_matrix = metrics.confusion_matrix(y_true=y_true_labels, y_pred=y_pred_labels)\n",
    "print(confusion_matrix)"
   ]
  },
  {
   "cell_type": "code",
   "execution_count": 73,
   "metadata": {},
   "outputs": [
    {
     "data": {
      "image/png": "[encoded data removed]",
      "text/plain": [
       "<Figure size 1080x648 with 1 Axes>"
      ]
     },
     "metadata": {},
     "output_type": "display_data"
    }
   ],
   "source": [
    "from sklearn.metrics import roc_curve, auc\n",
    "\n",
    "fpr, tpr, _ = roc_curve(y_true_labels, y_pred_labels)\n",
    "\n",
    "plt.figure(figsize = (15,9))\n",
    "plt.figure(1)\n",
    "plt.plot([0, 1], [0, 1], 'k--')\n",
    "plt.plot(fpr, tpr, label='Feed-Forward (area: %0.2f)'\n",
    "             % auc(fpr,tpr), color = \"purple\")\n",
    "plt.xlabel('False positive rate', fontsize = 15)\n",
    "plt.ylabel('True positive rate', fontsize = 15)\n",
    "plt.title('Full Feed Forward Model', fontsize = 20)\n",
    "plt.legend(loc='best')\n",
    "plt.show()"
   ]
  },
  {
   "cell_type": "code",
   "execution_count": 76,
   "metadata": {},
   "outputs": [
    {
     "data": {
      "text/plain": [
       "array([[[[0.8039216 , 0.7529412 , 0.9137255 ],\n",
       "         [0.8117647 , 0.73333335, 0.91764706],\n",
       "         [0.6784314 , 0.5686275 , 0.8117647 ],\n",
       "         ...,\n",
       "         [0.4627451 , 0.32156864, 0.8       ],\n",
       "         [0.52156866, 0.36862746, 0.8       ],\n",
       "         [0.50980395, 0.38039216, 0.8117647 ]],\n",
       "\n",
       "        [[0.91764706, 0.9019608 , 0.9254902 ],\n",
       "         [0.8862745 , 0.84313726, 0.94509804],\n",
       "         [0.62352943, 0.49019608, 0.8156863 ],\n",
       "         ...,\n",
       "         [0.4509804 , 0.31764707, 0.78431374],\n",
       "         [0.4862745 , 0.32941177, 0.7921569 ],\n",
       "         [0.5411765 , 0.38431373, 0.8156863 ]],\n",
       "\n",
       "        [[0.91764706, 0.9019608 , 0.93333334],\n",
       "         [0.9098039 , 0.88235295, 0.9372549 ],\n",
       "         [0.6117647 , 0.46666667, 0.8       ],\n",
       "         ...,\n",
       "         [0.5058824 , 0.34901962, 0.7882353 ],\n",
       "         [0.5019608 , 0.3764706 , 0.7921569 ],\n",
       "         [0.5294118 , 0.3529412 , 0.73333335]],\n",
       "\n",
       "        ...,\n",
       "\n",
       "        [[0.44313726, 0.24313726, 0.39607844],\n",
       "         [0.50980395, 0.31764707, 0.5803922 ],\n",
       "         [0.41568628, 0.24313726, 0.5137255 ],\n",
       "         ...,\n",
       "         [0.5176471 , 0.3764706 , 0.7882353 ],\n",
       "         [0.49411765, 0.3529412 , 0.75686276],\n",
       "         [0.5019608 , 0.3372549 , 0.7294118 ]],\n",
       "\n",
       "        [[0.44313726, 0.25490198, 0.43529412],\n",
       "         [0.54509807, 0.35686275, 0.52156866],\n",
       "         [0.40392157, 0.20392157, 0.4117647 ],\n",
       "         ...,\n",
       "         [0.5019608 , 0.3372549 , 0.7647059 ],\n",
       "         [0.52156866, 0.3647059 , 0.74509805],\n",
       "         [0.47843137, 0.33333334, 0.7411765 ]],\n",
       "\n",
       "        [[0.4509804 , 0.23921569, 0.4       ],\n",
       "         [0.45882353, 0.2627451 , 0.41568628],\n",
       "         [0.45490196, 0.26666668, 0.41960785],\n",
       "         ...,\n",
       "         [0.48235294, 0.3254902 , 0.7529412 ],\n",
       "         [0.49803922, 0.35686275, 0.64705884],\n",
       "         [0.5137255 , 0.3529412 , 0.7490196 ]]]], dtype=float32)"
      ]
     },
     "execution_count": 76,
     "metadata": {},
     "output_type": "execute_result"
    }
   ],
   "source": [
    "X_train[:1]"
   ]
  },
  {
   "cell_type": "code",
   "execution_count": 78,
   "metadata": {},
   "outputs": [
    {
     "data": {
      "text/plain": [
       "array([0, 0, 1, ..., 1, 1, 1])"
      ]
     },
     "execution_count": 78,
     "metadata": {},
     "output_type": "execute_result"
    }
   ],
   "source": [
    "y_pred_labels"
   ]
  },
  {
   "cell_type": "code",
   "execution_count": 79,
   "metadata": {},
   "outputs": [
    {
     "data": {
      "text/plain": [
       "array([0, 0, 0, ..., 1, 1, 1])"
      ]
     },
     "execution_count": 79,
     "metadata": {},
     "output_type": "execute_result"
    }
   ],
   "source": [
    "y_true_labels"
   ]
  },
  {
   "cell_type": "code",
   "execution_count": null,
   "metadata": {},
   "outputs": [],
   "source": [
    "from tensorflow.keras.models import load_model\n",
    "model = load_model('InceptionV3_second_model.h5')"
   ]
  },
  {
   "cell_type": "code",
   "execution_count": null,
   "metadata": {},
   "outputs": [],
   "source": []
  },
  {
   "cell_type": "code",
   "execution_count": null,
   "metadata": {},
   "outputs": [],
   "source": []
  },
  {
   "cell_type": "code",
   "execution_count": null,
   "metadata": {},
   "outputs": [],
   "source": []
  },
  {
   "cell_type": "code",
   "execution_count": null,
   "metadata": {},
   "outputs": [],
   "source": []
  },
  {
   "cell_type": "code",
   "execution_count": null,
   "metadata": {},
   "outputs": [],
   "source": []
  }
 ],
 "metadata": {
  "kernelspec": {
   "display_name": "Python 3",
   "language": "python",
   "name": "python3"
  },
  "language_info": {
   "codemirror_mode": {
    "name": "ipython",
    "version": 3
   },
   "file_extension": ".py",
   "mimetype": "text/x-python",
   "name": "python",
   "nbconvert_exporter": "python",
   "pygments_lexer": "ipython3",
   "version": "3.7.4"
  }
 },
 "nbformat": 4,
 "nbformat_minor": 4
}
