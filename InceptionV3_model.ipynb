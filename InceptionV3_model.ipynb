{
 "cells": [
  {
   "cell_type": "code",
   "execution_count": 1,
   "metadata": {},
   "outputs": [],
   "source": [
    "import pandas as pd\n",
    "import numpy as np\n",
    "import tensorflow\n",
    "from tensorflow.keras.models import Sequential\n",
    "from tensorflow.keras.layers import Dense, Dropout, Conv2D, MaxPooling2D, Flatten, GlobalAveragePooling2D, BatchNormalization\n",
    "from tensorflow.keras.optimizers import Adam\n",
    "from tensorflow.keras.metrics import categorical_crossentropy\n",
    "from tensorflow.keras.preprocessing.image import ImageDataGenerator\n",
    "from tensorflow.keras.models import Model\n",
    "from tensorflow.keras.callbacks import EarlyStopping, ReduceLROnPlateau, ModelCheckpoint\n",
    "from tensorflow.keras.applications.resnet50 import ResNet50\n",
    "import os\n",
    "import cv2\n",
    "from tensorflow.keras.applications.inception_v3 import InceptionV3\n",
    "import imageio\n",
    "import skimage\n",
    "import skimage.io\n",
    "import skimage.transform\n",
    "from sklearn.utils import shuffle\n",
    "from sklearn.metrics import confusion_matrix\n",
    "from sklearn.model_selection import train_test_split\n",
    "import itertools\n",
    "import shutil\n",
    "import matplotlib.pyplot as plt"
   ]
  },
  {
   "cell_type": "code",
   "execution_count": null,
   "metadata": {},
   "outputs": [],
   "source": [
    "os.listdir('/kaggle/input/breast-histopathology-images/IDC_regular_ps50_idx5')[:5]"
   ]
  },
  {
   "cell_type": "code",
   "execution_count": 3,
   "metadata": {},
   "outputs": [
    {
     "data": {
      "text/plain": [
       "279"
      ]
     },
     "execution_count": 3,
     "metadata": {},
     "output_type": "execute_result"
    }
   ],
   "source": [
    "patients = os.listdir('../input/breast-histopathology-images/IDC_regular_ps50_idx5')\n",
    "\n",
    "len(patients)"
   ]
  },
  {
   "cell_type": "code",
   "execution_count": 4,
   "metadata": {},
   "outputs": [],
   "source": [
    "images = 'images'\n",
    "os.mkdir(images)"
   ]
  },
  {
   "cell_type": "code",
   "execution_count": 5,
   "metadata": {},
   "outputs": [],
   "source": [
    "# received help from https://docs.python.org/3/library/shutil.html and https://www.tutorialspoint.com/python/os_listdir.htm\n",
    "#create a list for patients \n",
    "patient_list = os.listdir('./IDC_regular_ps50_idx5')\n",
    "for patient in patient_list:\n",
    "    #create a path variable for positive and negative images\n",
    "    negative_images = './IDC_regular_ps50_idx5/' + str(patient) + '/0'\n",
    "    positive_images = './IDC_regular_ps50_idx5/' + str(patient) + '/1'\n",
    "\n",
    "\n",
    "    # create a list of all files in folders that end in 0\n",
    "    neg_list = os.listdir(negative_images)\n",
    "    # create a list of list all files in folders that end in 1\n",
    "    pos_list = os.listdir(positive_images)\n",
    "    #shutil.copyfile(src, dst, *, follow_symlinks=True) --- example of format\n",
    "    #Copy the contents of the file named src to a file named dst and return dst in the most efficient way possible.\n",
    "    # move the negative images to images\n",
    "    for filename in neg_list:\n",
    "\n",
    "        # source path to image\n",
    "        src = os.path.join(negative_images, filename)\n",
    "        # destination path to image\n",
    "        dst = os.path.join(images, filename)\n",
    "        # copy the image from the source to the destination\n",
    "        shutil.copyfile(src, dst)\n",
    "\n",
    "\n",
    "    # move the positive images to images\n",
    "    for filename in pos_list:\n",
    "\n",
    "        # source path to image\n",
    "        src = os.path.join(positive_images, filename)\n",
    "        # destination path to image\n",
    "        dst = os.path.join(images, filename)\n",
    "        # copy the image from the source to the destination\n",
    "        shutil.copyfile(src, dst)"
   ]
  },
  {
   "cell_type": "code",
   "execution_count": 6,
   "metadata": {},
   "outputs": [
    {
     "data": {
      "text/plain": [
       "277524"
      ]
     },
     "execution_count": 6,
     "metadata": {},
     "output_type": "execute_result"
    }
   ],
   "source": [
    "len(os.listdir('images'))"
   ]
  },
  {
   "cell_type": "code",
   "execution_count": 7,
   "metadata": {},
   "outputs": [
    {
     "data": {
      "text/html": [
       "<div>\n",
       "<style scoped>\n",
       "    .dataframe tbody tr th:only-of-type {\n",
       "        vertical-align: middle;\n",
       "    }\n",
       "\n",
       "    .dataframe tbody tr th {\n",
       "        vertical-align: top;\n",
       "    }\n",
       "\n",
       "    .dataframe thead th {\n",
       "        text-align: right;\n",
       "    }\n",
       "</style>\n",
       "<table border=\"1\" class=\"dataframe\">\n",
       "  <thead>\n",
       "    <tr style=\"text-align: right;\">\n",
       "      <th></th>\n",
       "      <th>image_id</th>\n",
       "    </tr>\n",
       "  </thead>\n",
       "  <tbody>\n",
       "    <tr>\n",
       "      <th>0</th>\n",
       "      <td>12878_idx5_x601_y1401_class0.png</td>\n",
       "    </tr>\n",
       "    <tr>\n",
       "      <th>1</th>\n",
       "      <td>9176_idx5_x1851_y801_class0.png</td>\n",
       "    </tr>\n",
       "    <tr>\n",
       "      <th>2</th>\n",
       "      <td>9225_idx5_x501_y601_class0.png</td>\n",
       "    </tr>\n",
       "    <tr>\n",
       "      <th>3</th>\n",
       "      <td>9125_idx5_x1251_y1351_class1.png</td>\n",
       "    </tr>\n",
       "    <tr>\n",
       "      <th>4</th>\n",
       "      <td>14153_idx5_x3051_y2851_class0.png</td>\n",
       "    </tr>\n",
       "  </tbody>\n",
       "</table>\n",
       "</div>"
      ],
      "text/plain": [
       "                            image_id\n",
       "0   12878_idx5_x601_y1401_class0.png\n",
       "1    9176_idx5_x1851_y801_class0.png\n",
       "2     9225_idx5_x501_y601_class0.png\n",
       "3   9125_idx5_x1251_y1351_class1.png\n",
       "4  14153_idx5_x3051_y2851_class0.png"
      ]
     },
     "execution_count": 7,
     "metadata": {},
     "output_type": "execute_result"
    }
   ],
   "source": [
    "image_list = os.listdir('images')\n",
    "df_idc = pd.DataFrame(image_list, columns=['image_id'])\n",
    "df_idc.head()"
   ]
  },
  {
   "cell_type": "code",
   "execution_count": 8,
   "metadata": {},
   "outputs": [
    {
     "data": {
      "text/html": [
       "<div>\n",
       "<style scoped>\n",
       "    .dataframe tbody tr th:only-of-type {\n",
       "        vertical-align: middle;\n",
       "    }\n",
       "\n",
       "    .dataframe tbody tr th {\n",
       "        vertical-align: top;\n",
       "    }\n",
       "\n",
       "    .dataframe thead th {\n",
       "        text-align: right;\n",
       "    }\n",
       "</style>\n",
       "<table border=\"1\" class=\"dataframe\">\n",
       "  <thead>\n",
       "    <tr style=\"text-align: right;\">\n",
       "      <th></th>\n",
       "      <th>image_id</th>\n",
       "      <th>patient_id</th>\n",
       "      <th>target</th>\n",
       "    </tr>\n",
       "  </thead>\n",
       "  <tbody>\n",
       "    <tr>\n",
       "      <th>0</th>\n",
       "      <td>12878_idx5_x601_y1401_class0.png</td>\n",
       "      <td>12878</td>\n",
       "      <td>0</td>\n",
       "    </tr>\n",
       "    <tr>\n",
       "      <th>1</th>\n",
       "      <td>9176_idx5_x1851_y801_class0.png</td>\n",
       "      <td>9176</td>\n",
       "      <td>0</td>\n",
       "    </tr>\n",
       "    <tr>\n",
       "      <th>2</th>\n",
       "      <td>9225_idx5_x501_y601_class0.png</td>\n",
       "      <td>9225</td>\n",
       "      <td>0</td>\n",
       "    </tr>\n",
       "    <tr>\n",
       "      <th>3</th>\n",
       "      <td>9125_idx5_x1251_y1351_class1.png</td>\n",
       "      <td>9125</td>\n",
       "      <td>1</td>\n",
       "    </tr>\n",
       "    <tr>\n",
       "      <th>4</th>\n",
       "      <td>14153_idx5_x3051_y2851_class0.png</td>\n",
       "      <td>14153</td>\n",
       "      <td>0</td>\n",
       "    </tr>\n",
       "  </tbody>\n",
       "</table>\n",
       "</div>"
      ],
      "text/plain": [
       "                            image_id patient_id target\n",
       "0   12878_idx5_x601_y1401_class0.png      12878      0\n",
       "1    9176_idx5_x1851_y801_class0.png       9176      0\n",
       "2     9225_idx5_x501_y601_class0.png       9225      0\n",
       "3   9125_idx5_x1251_y1351_class1.png       9125      1\n",
       "4  14153_idx5_x3051_y2851_class0.png      14153      0"
      ]
     },
     "execution_count": 8,
     "metadata": {},
     "output_type": "execute_result"
    }
   ],
   "source": [
    "# append patient ID and target information to df\n",
    "# there are 5 parts to each image id that can be separated on _ \n",
    "def get_patient_id(x):\n",
    "    # split into a list\n",
    "    i = x.split('_')\n",
    "    # the id is the first index in the list\n",
    "    patient_id = i[0]\n",
    "    \n",
    "    return patient_id\n",
    "\n",
    "def get_target(x):\n",
    "    # split into a list\n",
    "    a = x.split('_')\n",
    "    # the target is part of the string in the 4th index\n",
    "    b = a[4]\n",
    "    # the y target 0 or 1 is the 5th index of the string \n",
    "    target = b[5]\n",
    "    \n",
    "    return target\n",
    "\n",
    "# extract the patient id\n",
    "\n",
    "# create a new column called 'patient_id' and apply the patient id function \n",
    "df_idc['patient_id'] = df_idc['image_id'].apply(get_patient_id)\n",
    "# create a new column called 'target' and apply the patient's target variable \n",
    "df_idc['target'] = df_idc['image_id'].apply(get_target)\n",
    "\n",
    "df_idc.head()"
   ]
  },
  {
   "cell_type": "code",
   "execution_count": null,
   "metadata": {},
   "outputs": [],
   "source": [
    "df_idc.shape"
   ]
  },
  {
   "cell_type": "code",
   "execution_count": null,
   "metadata": {},
   "outputs": [],
   "source": [
    "df_idc['target'].value_counts()"
   ]
  },
  {
   "cell_type": "code",
   "execution_count": 11,
   "metadata": {},
   "outputs": [
    {
     "data": {
      "text/plain": [
       "1    78786\n",
       "0    78786\n",
       "Name: target, dtype: int64"
      ]
     },
     "execution_count": 11,
     "metadata": {},
     "output_type": "execute_result"
    }
   ],
   "source": [
    "# take a sample of class 0 to match class 1 (total = 78786)\n",
    "df_0 = df_idc[df_idc['target'] == '0'].sample(78786, random_state=1984)\n",
    "df_1 = df_idc[df_idc['target'] == '1'].sample(78786, random_state=1984)\n",
    "\n",
    "# concat to a new dataframe\n",
    "df_idc = pd.concat([df_0, df_1], axis=0).reset_index(drop=True)\n",
    "\n",
    "# ensure class balance \n",
    "df_idc['target'].value_counts()"
   ]
  },
  {
   "cell_type": "code",
   "execution_count": 12,
   "metadata": {},
   "outputs": [
    {
     "name": "stdout",
     "output_type": "stream",
     "text": [
      "(141814, 3)\n",
      "(15758, 3)\n"
     ]
    }
   ],
   "source": [
    "# train test split \n",
    "y = df_idc['target']\n",
    "\n",
    "df_train, df_val = train_test_split(df_idc, test_size=0.10, random_state=1984)\n",
    "\n",
    "print(df_train.shape)\n",
    "print(df_val.shape)"
   ]
  },
  {
   "cell_type": "code",
   "execution_count": 13,
   "metadata": {},
   "outputs": [
    {
     "data": {
      "text/plain": [
       "1    70915\n",
       "0    70899\n",
       "Name: target, dtype: int64"
      ]
     },
     "execution_count": 13,
     "metadata": {},
     "output_type": "execute_result"
    }
   ],
   "source": [
    "df_train['target'].value_counts()"
   ]
  },
  {
   "cell_type": "code",
   "execution_count": 14,
   "metadata": {},
   "outputs": [
    {
     "data": {
      "text/plain": [
       "0    7887\n",
       "1    7871\n",
       "Name: target, dtype: int64"
      ]
     },
     "execution_count": 14,
     "metadata": {},
     "output_type": "execute_result"
    }
   ],
   "source": [
    "df_val['target'].value_counts()"
   ]
  },
  {
   "cell_type": "code",
   "execution_count": 15,
   "metadata": {},
   "outputs": [],
   "source": [
    "# Create a base directory\n",
    "base_dir = 'base_dir'\n",
    "os.mkdir(base_dir)\n",
    "\n",
    "# create a path to 'base_dir' to which we will join the names of the new folders\n",
    "# train_dir\n",
    "train_dir = os.path.join(base_dir, 'train_dir')\n",
    "os.mkdir(train_dir)\n",
    "\n",
    "# val_dir\n",
    "val_dir = os.path.join(base_dir, 'val_dir')\n",
    "os.mkdir(val_dir)\n",
    "\n",
    "\n",
    "# [CREATE FOLDERS INSIDE THE TRAIN AND VALIDATION FOLDERS]\n",
    "# Inside each folder we create seperate folders for each class\n",
    "\n",
    "# create new folders inside train_dir\n",
    "no_idc = os.path.join(train_dir, 'no_idc')\n",
    "os.mkdir(no_idc)\n",
    "has_idc = os.path.join(train_dir, 'has_idc')\n",
    "os.mkdir(has_idc)\n",
    "\n",
    "\n",
    "# create new folders inside val_dir\n",
    "no_idc = os.path.join(val_dir, 'no_idc')\n",
    "os.mkdir(no_idc)\n",
    "has_idc = os.path.join(val_dir, 'has_idc')\n",
    "os.mkdir(has_idc)"
   ]
  },
  {
   "cell_type": "code",
   "execution_count": null,
   "metadata": {},
   "outputs": [],
   "source": [
    "os.listdir('base_dir/train_dir')"
   ]
  },
  {
   "cell_type": "code",
   "execution_count": 16,
   "metadata": {},
   "outputs": [],
   "source": [
    "df_idc.set_index('image_id', inplace=True)"
   ]
  },
  {
   "cell_type": "code",
   "execution_count": 17,
   "metadata": {},
   "outputs": [],
   "source": [
    "# Get a list of train and val images\n",
    "train_list = list(df_train['image_id'])\n",
    "val_list = list(df_val['image_id'])\n",
    "# Transfer the train images\n",
    "for image in train_list:\n",
    "    \n",
    "    fname = image\n",
    "    # get target label for each image\n",
    "    target = df_idc.loc[image,'target']\n",
    "    \n",
    "    # these must match the folder names\n",
    "    if target == '0':\n",
    "        label = 'no_idc'\n",
    "    if target == '1':\n",
    "        label = 'has_idc'\n",
    "    \n",
    "    # source path to image\n",
    "    src = os.path.join(images, fname)\n",
    "    # destination path to image\n",
    "    dst = os.path.join(train_dir, label, fname)\n",
    "    # move the image from the source to the destination\n",
    "    shutil.move(src, dst)\n",
    "    \n",
    "\n",
    "# Transfer the val images\n",
    "\n",
    "for image in val_list:\n",
    "    \n",
    "    fname = image\n",
    "    # get the label for a certain image\n",
    "    target = df_idc.loc[image,'target']\n",
    "    \n",
    "    # these must match the folder names\n",
    "    if target == '0':\n",
    "        label = 'no_idc'\n",
    "    if target == '1':\n",
    "        label = 'has_idc'\n",
    "    \n",
    "\n",
    "    # source path to image\n",
    "    src = os.path.join(images, fname)\n",
    "    # destination path to image\n",
    "    dst = os.path.join(val_dir, label, fname)\n",
    "    # move the image from the source to the destination\n",
    "    shutil.move(src, dst)"
   ]
  },
  {
   "cell_type": "code",
   "execution_count": 20,
   "metadata": {},
   "outputs": [],
   "source": [
    "train_path = 'base_dir/train_dir'\n",
    "valid_path = 'base_dir/val_dir'\n",
    "num_train_samples = len(df_train)\n",
    "num_val_samples = len(df_val)\n",
    "train_batch_size = 512\n",
    "val_batch_size = 512\n",
    "train_steps = np.ceil(num_train_samples / train_batch_size)\n",
    "val_steps = np.ceil(num_val_samples / val_batch_size)"
   ]
  },
  {
   "cell_type": "markdown",
   "metadata": {},
   "source": [
    "## Set up InceptionV3 model"
   ]
  },
  {
   "cell_type": "code",
   "execution_count": 18,
   "metadata": {},
   "outputs": [
    {
     "name": "stdout",
     "output_type": "stream",
     "text": [
      "Downloading data from https://github.com/fchollet/deep-learning-models/releases/download/v0.5/inception_v3_weights_tf_dim_ordering_tf_kernels_notop.h5\n",
      "87916544/87910968 [==============================] - 1s 0us/step\n"
     ]
    }
   ],
   "source": [
    "model = Sequential()\n",
    "### inception model requires 75 x 75 image size at a minimum\n",
    "model.add(InceptionV3(include_top = False,\n",
    "                      weights = 'imagenet',\n",
    "                      input_shape=(75,75,3)))\n",
    "\n",
    "# Dropout\n",
    "model.add(Dropout(0.5))\n",
    "\n",
    "# Pooling layer\n",
    "model.add(GlobalAveragePooling2D())\n",
    "\n",
    "# Dense layer\n",
    "model.add(Dense(128, \n",
    "                activation = \"relu\"))\n",
    "\n",
    "# Batch Normalizer\n",
    "model.add(BatchNormalization())\n",
    "\n",
    "# Output layer\n",
    "model.add(Dense(2,\n",
    "                activation = \"sigmoid\"))"
   ]
  },
  {
   "cell_type": "code",
   "execution_count": 21,
   "metadata": {},
   "outputs": [
    {
     "name": "stdout",
     "output_type": "stream",
     "text": [
      "Found 141814 images belonging to 2 classes.\n",
      "Found 15758 images belonging to 2 classes.\n",
      "Found 15758 images belonging to 2 classes.\n"
     ]
    }
   ],
   "source": [
    "#Defining image augmentation\n",
    "train_idg = ImageDataGenerator(rescale = 1./255,\n",
    "                               zoom_range = 0.2,\n",
    "                               shear_range = 0.2,\n",
    "                               rotation_range = 20,\n",
    "                               horizontal_flip = True)\n",
    "\n",
    "test_idg = ImageDataGenerator(rescale = 1./255)\n",
    "\n",
    "\n",
    "train_gen = train_idg.flow_from_directory(train_path,\n",
    "                                    model.input_shape[1:3],\n",
    "                                    color_mode = \"rgb\",\n",
    "                                    seed = 42,\n",
    "                                    batch_size = train_batch_size,\n",
    "                                    shuffle = True)\n",
    "\n",
    "val_gen =  test_idg.flow_from_directory(valid_path,\n",
    "                                    model.input_shape[1:3],\n",
    "                                    color_mode = \"rgb\",\n",
    "                                    seed = 42,\n",
    "                                    batch_size = val_batch_size, \n",
    "                                    shuffle = True)\n",
    "\n",
    "test_gen = test_idg.flow_from_directory(valid_path,\n",
    "                                    model.input_shape[1:3],\n",
    "                                    color_mode = \"rgb\",\n",
    "                                    seed = 42,\n",
    "                                    batch_size = 1,\n",
    "                                    shuffle = False)"
   ]
  },
  {
   "cell_type": "code",
   "execution_count": 22,
   "metadata": {},
   "outputs": [],
   "source": [
    "filepath = \"model.h5\"\n",
    "checkpoint = ModelCheckpoint(filepath, monitor='val_acc', verbose=1,\n",
    "                             save_best_only=True, mode='max')\n",
    "\n",
    "reduce_lr = ReduceLROnPlateau(monitor='val_acc', factor=0.5, patience=8,\n",
    "                                   verbose=1, mode='max', min_lr=0.00001)\n",
    "                             \n",
    "callbacks_list = [checkpoint, reduce_lr]\n",
    "# Compile model\n",
    "model.compile(loss = \"binary_crossentropy\",\n",
    "              optimizer = Adam(lr = 0.0001),\n",
    "              metrics = [\"accuracy\"])"
   ]
  },
  {
   "cell_type": "code",
   "execution_count": 23,
   "metadata": {},
   "outputs": [
    {
     "name": "stdout",
     "output_type": "stream",
     "text": [
      "Train for 277 steps, validate for 31 steps\n",
      "Epoch 1/15\n",
      "277/277 [==============================] - 334s 1s/step - loss: 0.4175 - accuracy: 0.8148 - val_loss: 0.4606 - val_accuracy: 0.8019\n",
      "Epoch 2/15\n",
      "277/277 [==============================] - 304s 1s/step - loss: 0.3261 - accuracy: 0.8628 - val_loss: 0.3119 - val_accuracy: 0.8699\n",
      "Epoch 3/15\n",
      "277/277 [==============================] - 302s 1s/step - loss: 0.3013 - accuracy: 0.8739 - val_loss: 0.3050 - val_accuracy: 0.8696\n",
      "Epoch 4/15\n",
      "277/277 [==============================] - 298s 1s/step - loss: 0.2852 - accuracy: 0.8821 - val_loss: 0.3002 - val_accuracy: 0.8757\n",
      "Epoch 5/15\n",
      "277/277 [==============================] - 302s 1s/step - loss: 0.2707 - accuracy: 0.8881 - val_loss: 0.2916 - val_accuracy: 0.8793\n",
      "Epoch 6/15\n",
      "277/277 [==============================] - 316s 1s/step - loss: 0.2602 - accuracy: 0.8924 - val_loss: 0.2841 - val_accuracy: 0.8801\n",
      "Epoch 7/15\n",
      "277/277 [==============================] - 324s 1s/step - loss: 0.2481 - accuracy: 0.8979 - val_loss: 0.3411 - val_accuracy: 0.8613\n",
      "Epoch 8/15\n",
      "277/277 [==============================] - 309s 1s/step - loss: 0.2371 - accuracy: 0.9019 - val_loss: 0.2844 - val_accuracy: 0.8836\n",
      "Epoch 9/15\n",
      "277/277 [==============================] - 315s 1s/step - loss: 0.2280 - accuracy: 0.9065 - val_loss: 0.2930 - val_accuracy: 0.8816\n",
      "Epoch 10/15\n",
      "277/277 [==============================] - 319s 1s/step - loss: 0.2177 - accuracy: 0.9097 - val_loss: 0.2846 - val_accuracy: 0.8891\n",
      "Epoch 11/15\n",
      "277/277 [==============================] - 321s 1s/step - loss: 0.2074 - accuracy: 0.9150 - val_loss: 0.3089 - val_accuracy: 0.8770\n",
      "Epoch 12/15\n",
      "277/277 [==============================] - 310s 1s/step - loss: 0.1967 - accuracy: 0.9196 - val_loss: 0.3048 - val_accuracy: 0.8836\n",
      "Epoch 13/15\n",
      "277/277 [==============================] - 327s 1s/step - loss: 0.1873 - accuracy: 0.9237 - val_loss: 0.3032 - val_accuracy: 0.8802\n",
      "Epoch 14/15\n",
      "277/277 [==============================] - 331s 1s/step - loss: 0.1760 - accuracy: 0.9289 - val_loss: 0.3116 - val_accuracy: 0.8782\n",
      "Epoch 15/15\n",
      "277/277 [==============================] - 313s 1s/step - loss: 0.1678 - accuracy: 0.9321 - val_loss: 0.3286 - val_accuracy: 0.8853\n"
     ]
    }
   ],
   "source": [
    "history = model.fit_generator(train_gen, \n",
    "                    validation_data = val_gen,\n",
    "                    callbacks = callbacks_list,\n",
    "                    epochs = 15)"
   ]
  },
  {
   "cell_type": "code",
   "execution_count": null,
   "metadata": {},
   "outputs": [],
   "source": [
    "# Evaluate model on test data\n",
    "predictions = model.predict(test_gen)\n",
    "pred = predictions[:,1]\n",
    "predicted_classes = np.argmax(predictions,axis=1)\n",
    "true_classes = test_gen.classes\n",
    "class_labels = list(test_gen.class_indices.keys())\n",
    "scores = model.evaluate_generator(test_gen)\n",
    "labels = model.metrics_names\n",
    "# Create report\n",
    "from sklearn import metrics\n",
    "report = metrics.classification_report(true_classes, \n",
    "                                       predicted_classes,\n",
    "                                       target_names=class_labels)\n",
    "print(report)\n",
    "# Show model performance\n",
    "print(f'{labels[0]}: {scores[0]}')\n",
    "print(f'{labels[1]}: {scores[1]* 100}%')\n"
   ]
  },
  {
   "cell_type": "code",
   "execution_count": 31,
   "metadata": {},
   "outputs": [
    {
     "data": {
      "text/plain": [
       "<matplotlib.axes._subplots.AxesSubplot at 0x7fa818325410>"
      ]
     },
     "execution_count": 31,
     "metadata": {},
     "output_type": "execute_result"
    },
    {
     "data": {
      "image/png": "[encoded data removed]",
      "text/plain": [
       "<Figure size 576x396 with 2 Axes>"
      ]
     },
     "metadata": {},
     "output_type": "display_data"
    }
   ],
   "source": [
    "# used https://medium.com/@dtuk81/confusion-matrix-visualization-fc31e3f30fea for help\n",
    "#labels = ['True Neg','False Pos','False Neg','True Pos']\n",
    "#labels = np.asarray(labels).reshape(2,2)\n",
    "#sns.heatmap(cm, annot=labels, fmt='', cmap='Blues')\n",
    "ax = plt.subplot()\n",
    "#sns.heatmap(cm, annot=True, ax=ax, cmap=\"Blues\", fmt=\"g\");  \n",
    "group_names = ['True Neg','False Pos','False Neg','True Pos']\n",
    "group_counts = ['{0:0.0f}'.format(value) for value in\n",
    "                cm.flatten()]\n",
    "group_percentages = ['{0:.2%}'.format(value) for value in\n",
    "                     cm.flatten()/np.sum(cm)]\n",
    "labels = [f\"{v1}\\n{v2}\\n{v3}\" for v1, v2, v3 in\n",
    "          zip(group_names,group_counts,group_percentages)]\n",
    "labels = np.asarray(labels).reshape(2,2)\n",
    "sns.set(font_scale=1.5)\n",
    "plt.title('IDC Matrix')\n",
    "\n",
    "sns.heatmap(cm, annot=labels, fmt='', cmap='Blues')"
   ]
  },
  {
   "cell_type": "code",
   "execution_count": null,
   "metadata": {},
   "outputs": [],
   "source": []
  },
  {
   "cell_type": "code",
   "execution_count": null,
   "metadata": {},
   "outputs": [],
   "source": [
    "train_loss = history.history[\"accuracy\"]\n",
    "test_loss = history.history[\"val_accuracy\"]\n",
    "plt.figure(figsize = (15,9))\n",
    "\n",
    "\n",
    "plt.plot(train_loss, label = \"InceptionV3 Training Accuracy\", color = \"navy\")\n",
    "plt.plot(test_loss, label = \"InceptonV3 Model Testing Accuracy\" , color= \"orange\")\n",
    "plt.title(\"InceptionV3 Classification Model\", fontsize = 25)\n",
    "plt.xlabel(\"Epoch Count\", fontsize = 20)\n",
    "plt.ylabel(\"Accuracy\", fontsize = 20)\n",
    "plt.legend();"
   ]
  },
  {
   "cell_type": "code",
   "execution_count": null,
   "metadata": {},
   "outputs": [],
   "source": [
    "# ROC curve graph for InceptionV3\n",
    "from sklearn.metrics import roc_curve, auc\n",
    "\n",
    "fpr, tpr, _ = roc_curve(true_classes, pred)\n",
    "\n",
    "plt.figure(figsize = (15,9))\n",
    "plt.figure(1)\n",
    "plt.plot([0, 1], [0, 1], 'k--')\n",
    "plt.plot(fpr, tpr, label='Resnet50 (area: %0.2f)'\n",
    "             % auc(fpr,tpr), color = \"purple\")\n",
    "plt.xlabel('False positive rate', fontsize = 15)\n",
    "plt.ylabel('True positive rate', fontsize = 15)\n",
    "plt.title('ROC for Inception Model', fontsize = 20)\n",
    "plt.legend(loc='best')\n",
    "plt.show()"
   ]
  },
  {
   "cell_type": "code",
   "execution_count": null,
   "metadata": {},
   "outputs": [],
   "source": []
  },
  {
   "cell_type": "code",
   "execution_count": null,
   "metadata": {},
   "outputs": [],
   "source": [
    "# save weights from this model\n",
    "model.save(\"InceptionV3_model.h5\")"
   ]
  },
  {
   "cell_type": "code",
   "execution_count": null,
   "metadata": {},
   "outputs": [],
   "source": []
  },
  {
   "cell_type": "code",
   "execution_count": null,
   "metadata": {},
   "outputs": [],
   "source": []
  },
  {
   "cell_type": "code",
   "execution_count": null,
   "metadata": {},
   "outputs": [],
   "source": []
  },
  {
   "cell_type": "code",
   "execution_count": null,
   "metadata": {},
   "outputs": [],
   "source": []
  }
 ],
 "metadata": {
  "kernelspec": {
   "display_name": "Python 3",
   "language": "python",
   "name": "python3"
  },
  "language_info": {
   "codemirror_mode": {
    "name": "ipython",
    "version": 3
   },
   "file_extension": ".py",
   "mimetype": "text/x-python",
   "name": "python",
   "nbconvert_exporter": "python",
   "pygments_lexer": "ipython3",
   "version": "3.7.4"
  }
 },
 "nbformat": 4,
 "nbformat_minor": 4
}
